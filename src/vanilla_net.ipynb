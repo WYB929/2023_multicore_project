{
 "cells": [
  {
   "cell_type": "code",
   "execution_count": 1,
   "id": "66028540",
   "metadata": {},
   "outputs": [],
   "source": [
    "import pandas as pd\n",
    "from sklearn.model_selection import train_test_split\n",
    "import numpy as np\n",
    "import matplotlib.pyplot as plt \n",
    "from sklearn.linear_model import LinearRegression\n",
    "from sklearn.ensemble import RandomForestRegressor\n",
    "from sklearn.linear_model import Lasso\n",
    "from sklearn.metrics import r2_score, mean_squared_error\n",
    "from sklearn.preprocessing import StandardScaler\n",
    "import torch\n",
    "from torch import nn\n",
    "from IPython import display"
   ]
  },
  {
   "cell_type": "code",
   "execution_count": 2,
   "id": "796bbf5a",
   "metadata": {},
   "outputs": [],
   "source": [
    "from torch.utils.data import DataLoader, TensorDataset"
   ]
  },
  {
   "cell_type": "code",
   "execution_count": 3,
   "id": "a7d60594",
   "metadata": {},
   "outputs": [],
   "source": [
    "data = pd.read_csv('../data/prepocessed_data.csv')"
   ]
  },
  {
   "cell_type": "code",
   "execution_count": 4,
   "id": "eeda6b99",
   "metadata": {},
   "outputs": [],
   "source": [
    "X = data.drop(['time','user_time','sys_time'], axis=1).values\n",
    "y = data[['time','user_time','sys_time']].values"
   ]
  },
  {
   "cell_type": "code",
   "execution_count": 5,
   "id": "e1c34d25",
   "metadata": {},
   "outputs": [],
   "source": [
    "# train test split\n",
    "X_train, X_rem, y_train, y_rem = train_test_split(X, y, test_size=0.3, random_state=42)\n",
    "X_val, X_test, y_val, y_test = train_test_split(X_rem, y_rem, test_size=0.5, random_state=42)"
   ]
  },
  {
   "cell_type": "code",
   "execution_count": 6,
   "id": "f3f537e9",
   "metadata": {},
   "outputs": [],
   "source": [
    "X_train_tensor = torch.from_numpy(X_train)\n",
    "y_train_tensor = torch.from_numpy(y_train)\n",
    "X_val_tensor = torch.from_numpy(X_val)\n",
    "y_val_tensor = torch.from_numpy(y_val)\n",
    "X_test_tensor = torch.from_numpy(X_test)\n",
    "y_test_tensor = torch.from_numpy(y_test)"
   ]
  },
  {
   "cell_type": "code",
   "execution_count": 7,
   "id": "6b3903a0",
   "metadata": {},
   "outputs": [
    {
     "name": "stdout",
     "output_type": "stream",
     "text": [
      "X_train_Size: torch.Size([8400, 15])\n",
      "y_train_Size: torch.Size([8400, 3])\n",
      "X_val_Size: torch.Size([1800, 15])\n",
      "y_val_Size: torch.Size([1800, 3])\n",
      "X_test: torch.Size([1800, 15])\n",
      "y_test_Size: torch.Size([1800, 3])\n"
     ]
    }
   ],
   "source": [
    "print(\"X_train_Size: \" + str(X_train_tensor.shape))\n",
    "print(\"y_train_Size: \" + str(y_train_tensor.shape))\n",
    "print(\"X_val_Size: \" + str(X_val_tensor.shape))\n",
    "print(\"y_val_Size: \" + str(y_val_tensor.shape))\n",
    "print(\"X_test: \" + str(X_test_tensor.shape))\n",
    "print(\"y_test_Size: \" + str(y_test_tensor.shape))"
   ]
  },
  {
   "cell_type": "code",
   "execution_count": 8,
   "id": "3d7078b0",
   "metadata": {},
   "outputs": [],
   "source": [
    "train_dataset = TensorDataset(X_train_tensor, y_train_tensor)\n",
    "val_dataset = TensorDataset(X_val_tensor, y_val_tensor)\n",
    "test_dataset = TensorDataset(X_test_tensor, y_test_tensor)\n",
    "train_loader = DataLoader(train_dataset, batch_size=16, shuffle=True)\n",
    "val_loader = DataLoader(val_dataset, batch_size=16, shuffle=True)\n",
    "test_loader = DataLoader(test_dataset, batch_size=16, shuffle=False)"
   ]
  },
  {
   "cell_type": "code",
   "execution_count": 9,
   "id": "7980d299",
   "metadata": {},
   "outputs": [],
   "source": [
    "I = 15  # input feature\n",
    "O = 3 # output result\n",
    "H = 64 # hidden unit"
   ]
  },
  {
   "cell_type": "code",
   "execution_count": 10,
   "id": "96bd7905",
   "metadata": {},
   "outputs": [],
   "source": [
    "model = nn.Sequential(\n",
    "    nn.Linear(I, H),\n",
    "    nn.ReLU(),\n",
    "    nn.Linear(H, H),\n",
    "    nn.ReLU(),\n",
    "    nn.Linear(H, O)\n",
    ")\n",
    "model = model.to(torch.float64)"
   ]
  },
  {
   "cell_type": "code",
   "execution_count": 11,
   "id": "1f6426f6",
   "metadata": {},
   "outputs": [
    {
     "data": {
      "text/plain": [
       "torch.float64"
      ]
     },
     "execution_count": 11,
     "metadata": {},
     "output_type": "execute_result"
    }
   ],
   "source": [
    "weight_tensor = model[0].weight\n",
    "\n",
    "# Get the datatype of the weight tensor\n",
    "weight_tensor.dtype"
   ]
  },
  {
   "cell_type": "code",
   "execution_count": 12,
   "id": "dc1552d8",
   "metadata": {},
   "outputs": [
    {
     "data": {
      "text/plain": [
       "torch.float64"
      ]
     },
     "execution_count": 12,
     "metadata": {},
     "output_type": "execute_result"
    }
   ],
   "source": [
    "X_train_tensor.dtype"
   ]
  },
  {
   "cell_type": "code",
   "execution_count": 13,
   "id": "fb96d7c8",
   "metadata": {},
   "outputs": [],
   "source": [
    "optimizer = torch.optim.Adam(model.parameters(), lr=0.001)"
   ]
  },
  {
   "cell_type": "code",
   "execution_count": 14,
   "id": "5afe7065",
   "metadata": {},
   "outputs": [],
   "source": [
    "def train(model, loader, optimizer):\n",
    "    loss_sum = 0.0\n",
    "    correct = 0\n",
    "    total = 0\n",
    "    for batch_idx, (inputs, targets) in enumerate(loader):\n",
    "        optimizer.zero_grad()\n",
    "        output = model(inputs)\n",
    "        loss = torch.nn.functional.mse_loss(output, targets)\n",
    "        loss.backward()\n",
    "        optimizer.step()\n",
    "\n",
    "        loss_sum += loss.item()\n",
    "        pred_labels = torch.round(output)\n",
    "        correct += (pred_labels == targets).sum().item()\n",
    "        total += len(targets)\n",
    "        \n",
    "    avg_loss = loss_sum / len(loader)\n",
    "    accuracy = correct / total\n",
    "    print(f\"Average loss: {avg_loss:.4f}, Accuracy: {accuracy:.4f}\")\n",
    "    return avg_loss, accuracy"
   ]
  },
  {
   "cell_type": "code",
   "execution_count": 15,
   "id": "0001cf8b",
   "metadata": {},
   "outputs": [],
   "source": [
    "train_losses = []\n",
    "train_accs = []\n",
    "val_losses = []\n",
    "val_accs = []"
   ]
  },
  {
   "cell_type": "code",
   "execution_count": null,
   "id": "23a8872d",
   "metadata": {},
   "outputs": [],
   "source": [
    "#train\n",
    "for epoch in range(500):\n",
    "    print(f\"Epoch {epoch + 1}\")\n",
    "    train_loss, train_accuracy = train(model, train_loader, optimizer)\n",
    "    train_losses.append(train_loss)\n",
    "    train_accs.append(train_accuracy)\n",
    "    \n",
    "    # validation\n",
    "    with torch.no_grad():\n",
    "        loss_sum = 0.0\n",
    "        correct = 0\n",
    "        total = 0\n",
    "        for batch_idx, (inputs, targets) in enumerate(val_loader):\n",
    "            output = model(inputs)\n",
    "            loss = torch.nn.functional.mse_loss(output, targets)\n",
    "            loss_sum += loss.item()\n",
    "            pred_labels = torch.round(output)\n",
    "            correct += (pred_labels == targets).sum().item()\n",
    "            total += len(targets)\n",
    "        avg_loss = loss_sum / len(test_loader)\n",
    "        accuracy = correct / total\n",
    "        val_losses.append(avg_loss)\n",
    "        val_accs.append(accuracy)\n",
    "        print(f\"Test Average loss: {avg_loss:.4f}, Test Accuracy: {accuracy:.4f}\")\n",
    "    display.clear_output(wait=True)"
   ]
  },
  {
   "cell_type": "code",
   "execution_count": null,
   "id": "45145c3b",
   "metadata": {},
   "outputs": [],
   "source": [
    "# train loss, accuracy\n",
    "fig, (ax1, ax2) = plt.subplots(1, 2, figsize=(12, 6))\n",
    "\n",
    "# plot the loss values\n",
    "ax1.plot(train_losses, label='Training Loss')\n",
    "ax1.set_title('Loss')\n",
    "ax1.set_xlabel('Epochs')\n",
    "ax1.set_ylabel('Loss')\n",
    "ax1.legend()\n",
    "\n",
    "# plot the accuracy values\n",
    "ax2.plot(train_accs, label='Training Accuracy')\n",
    "ax2.set_title('Accuracy')\n",
    "ax2.set_xlabel('Epochs')\n",
    "ax2.set_ylabel('Accuracy')\n",
    "ax2.legend()\n",
    "\n",
    "# show the plot\n",
    "plt.show()"
   ]
  },
  {
   "cell_type": "code",
   "execution_count": null,
   "id": "0954589e",
   "metadata": {},
   "outputs": [],
   "source": [
    "# val loss, accuracy\n",
    "fig, (ax1, ax2) = plt.subplots(1, 2, figsize=(12, 6))\n",
    "\n",
    "# plot the loss values\n",
    "ax1.plot(val_losses, label='Validation Loss')\n",
    "ax1.set_title('Loss')\n",
    "ax1.set_xlabel('Epochs')\n",
    "ax1.set_ylabel('Loss')\n",
    "ax1.legend()\n",
    "\n",
    "# plot the accuracy values\n",
    "ax2.plot(val_accs, label='Validation Accuracy')\n",
    "ax2.set_title('Accuracy')\n",
    "ax2.set_xlabel('Epochs')\n",
    "ax2.set_ylabel('Accuracy')\n",
    "ax2.legend()\n",
    "\n",
    "# show the plot\n",
    "plt.show()"
   ]
  },
  {
   "cell_type": "code",
   "execution_count": null,
   "id": "ec146ee9",
   "metadata": {},
   "outputs": [],
   "source": []
  }
 ],
 "metadata": {
  "kernelspec": {
   "display_name": "Python 3 (ipykernel)",
   "language": "python",
   "name": "python3"
  },
  "language_info": {
   "codemirror_mode": {
    "name": "ipython",
    "version": 3
   },
   "file_extension": ".py",
   "mimetype": "text/x-python",
   "name": "python",
   "nbconvert_exporter": "python",
   "pygments_lexer": "ipython3",
   "version": "3.9.12"
  }
 },
 "nbformat": 4,
 "nbformat_minor": 5
}
