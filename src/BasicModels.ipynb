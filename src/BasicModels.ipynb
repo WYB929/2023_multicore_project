{
 "cells": [
  {
   "cell_type": "code",
   "execution_count": 1,
   "id": "4646067d",
   "metadata": {
    "ExecuteTime": {
     "end_time": "2023-04-11T01:47:41.074743Z",
     "start_time": "2023-04-11T01:47:39.535085Z"
    }
   },
   "outputs": [],
   "source": [
    "import numpy as np\n",
    "import matplotlib.pyplot as plt \n",
    "from sklearn.linear_model import LinearRegression\n",
    "\n",
    "from sklearn.model_selection import train_test_split\n",
    "from sklearn.ensemble import RandomForestRegressor\n",
    "from sklearn.linear_model import Lasso"
   ]
  },
  {
   "cell_type": "code",
   "execution_count": 2,
   "id": "36c3dd48",
   "metadata": {
    "ExecuteTime": {
     "end_time": "2023-04-11T01:47:41.427195Z",
     "start_time": "2023-04-11T01:47:41.090399Z"
    }
   },
   "outputs": [
    {
     "name": "stdout",
     "output_type": "stream",
     "text": [
      "0.769230769230769\n"
     ]
    },
    {
     "ename": "NameError",
     "evalue": "name 'predicted_y' is not defined",
     "output_type": "error",
     "traceback": [
      "\u001b[0;31m---------------------------------------------------------------------------\u001b[0m",
      "\u001b[0;31mNameError\u001b[0m                                 Traceback (most recent call last)",
      "Input \u001b[0;32mIn [2]\u001b[0m, in \u001b[0;36m<cell line: 21>\u001b[0;34m()\u001b[0m\n\u001b[1;32m     20\u001b[0m new_X \u001b[38;5;241m=\u001b[39m np\u001b[38;5;241m.\u001b[39marray([[\u001b[38;5;241m2\u001b[39m, \u001b[38;5;241m200\u001b[39m], [\u001b[38;5;241m4\u001b[39m, \u001b[38;5;241m200\u001b[39m], [\u001b[38;5;241m5\u001b[39m, \u001b[38;5;241m300\u001b[39m]])\n\u001b[1;32m     21\u001b[0m \u001b[38;5;28;01mfor\u001b[39;00m i \u001b[38;5;129;01min\u001b[39;00m \u001b[38;5;28mrange\u001b[39m(\u001b[38;5;28mlen\u001b[39m(new_X)):\n\u001b[0;32m---> 22\u001b[0m     \u001b[38;5;28mprint\u001b[39m(\u001b[38;5;124m\"\u001b[39m\u001b[38;5;124mPredicted output for an input with value of\u001b[39m\u001b[38;5;124m\"\u001b[39m, new_X[i], \u001b[38;5;124m\"\u001b[39m\u001b[38;5;124m:\u001b[39m\u001b[38;5;124m\"\u001b[39m, \u001b[43mpredicted_y\u001b[49m[i])\n",
      "\u001b[0;31mNameError\u001b[0m: name 'predicted_y' is not defined"
     ]
    },
    {
     "data": {
      "image/png": "[encoded data removed]",
      "text/plain": [
       "<Figure size 432x288 with 1 Axes>"
      ]
     },
     "metadata": {
      "needs_background": "light"
     },
     "output_type": "display_data"
    }
   ],
   "source": [
    "# Multiple Regression\n",
    "# Sample data\n",
    "X = np.array([[1, 100], [2, 200], [3, 200], [4, 200], [5, 300]])  # input values\n",
    "y = np.array([100, 150, 200, 250, 200])  # output values\n",
    "\n",
    "# Model\n",
    "mul_model = LinearRegression().fit(X, y)\n",
    "rSqr = mul_model.score(X,y)\n",
    "print(rSqr)\n",
    "b0, b1 = mul_model.intercept_, mul_model.coef_\n",
    "yHat = b1[0]*X[:,0] + b1[1]*X[:,1] + b0\n",
    "\n",
    "# Scatter plot between predicted and actual score of full model:\n",
    "plt.plot(yHat,y,'o',markersize=5)\n",
    "plt.xlabel('Predicted output')\n",
    "plt.ylabel('Actual output')\n",
    "plt.title('R^2 = {:.3f}'.format(rSqr))\n",
    "\n",
    "# Prediction\n",
    "new_X = np.array([[2, 200], [4, 200], [5, 300]])\n",
    "for i in range(len(new_X)):\n",
    "    print(\"Predicted output for an input with value of\", new_X[i], \":\", predicted_y[i])"
   ]
  },
  {
   "cell_type": "code",
   "execution_count": 3,
   "id": "0a3849d8",
   "metadata": {
    "ExecuteTime": {
     "end_time": "2023-04-11T01:48:13.560278Z",
     "start_time": "2023-04-11T01:48:13.483640Z"
    }
   },
   "outputs": [
    {
     "name": "stdout",
     "output_type": "stream",
     "text": [
      "Predicted output for an input with value of [  2 200] : 148.0\n",
      "Predicted output for an input with value of [  4 200] : 177.0\n",
      "Predicted output for an input with value of [  5 300] : 177.0\n"
     ]
    }
   ],
   "source": [
    "# Random Forest Regression\n",
    "\n",
    "# 70% training and 30% test\n",
    "X_train, X_test, y_train, y_test = train_test_split(X, y, test_size = 0.50, random_state=123)\n",
    "\n",
    "# Model\n",
    "rf_model = RandomForestRegressor(max_depth=2).fit(X_train, y_train) # maximum depth of the trees = 2 to prevent overfitting\n",
    "\n",
    "# Prediction\n",
    "predicted_y = rf_model.predict(X_test)\n",
    "for i in range(len(X_test)):\n",
    "    print(\"Predicted output for an input with value of\", X_test[i], \":\", predicted_y[i])"
   ]
  },
  {
   "cell_type": "code",
   "execution_count": 4,
   "id": "47ae7bdd",
   "metadata": {
    "ExecuteTime": {
     "end_time": "2023-04-11T01:48:14.526496Z",
     "start_time": "2023-04-11T01:48:14.513326Z"
    }
   },
   "outputs": [
    {
     "name": "stdout",
     "output_type": "stream",
     "text": [
      "Predicted output for an input with value of [  2 200] : 199.99800000000033\n",
      "Predicted output for an input with value of [  4 200] : 199.99800000000033\n",
      "Predicted output for an input with value of [  5 300] : 299.994000000001\n"
     ]
    }
   ],
   "source": [
    "# LASSO Regression\n",
    "\n",
    "# Create and fit the model\n",
    "lasso_model = Lasso(alpha=0.1).fit(X_train, y_train) # alpha: the amount of regularization\n",
    "\n",
    "# Prediction\n",
    "predicted_y = lasso_model.predict(X_test)\n",
    "for i in range(len(X_test)):\n",
    "    print(\"Predicted output for an input with value of\", X_test[i], \":\", predicted_y[i])"
   ]
  },
  {
   "cell_type": "code",
   "execution_count": null,
   "id": "9742380b",
   "metadata": {},
   "outputs": [],
   "source": []
  }
 ],
 "metadata": {
  "kernelspec": {
   "display_name": "Python 3 (ipykernel)",
   "language": "python",
   "name": "python3"
  },
  "language_info": {
   "codemirror_mode": {
    "name": "ipython",
    "version": 3
   },
   "file_extension": ".py",
   "mimetype": "text/x-python",
   "name": "python",
   "nbconvert_exporter": "python",
   "pygments_lexer": "ipython3",
   "version": "3.9.10"
  },
  "varInspector": {
   "cols": {
    "lenName": 16,
    "lenType": 16,
    "lenVar": 40
   },
   "kernels_config": {
    "python": {
     "delete_cmd_postfix": "",
     "delete_cmd_prefix": "del ",
     "library": "var_list.py",
     "varRefreshCmd": "print(var_dic_list())"
    },
    "r": {
     "delete_cmd_postfix": ") ",
     "delete_cmd_prefix": "rm(",
     "library": "var_list.r",
     "varRefreshCmd": "cat(var_dic_list()) "
    }
   },
   "types_to_exclude": [
    "module",
    "function",
    "builtin_function_or_method",
    "instance",
    "_Feature"
   ],
   "window_display": false
  }
 },
 "nbformat": 4,
 "nbformat_minor": 5
}
