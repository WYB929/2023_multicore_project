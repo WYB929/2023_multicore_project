{
 "cells": [
  {
   "cell_type": "code",
   "execution_count": 45,
   "id": "4646067d",
   "metadata": {},
   "outputs": [],
   "source": [
    "import numpy as np\n",
    "import matplotlib.pyplot as plt \n",
    "from sklearn.linear_model import LinearRegression\n",
    "\n",
    "from sklearn.model_selection import train_test_split\n",
    "from sklearn.ensemble import RandomForestRegressor\n",
    "from sklearn.linear_model import Lasso"
   ]
  },
  {
   "cell_type": "code",
   "execution_count": 43,
   "id": "36c3dd48",
   "metadata": {},
   "outputs": [
    {
     "name": "stdout",
     "output_type": "stream",
     "text": [
      "0.769230769230769\n",
      "Predicted output for an input with value of [  2 200] : 157.0\n",
      "Predicted output for an input with value of [  4 200] : 179.0\n",
      "Predicted output for an input with value of [  5 300] : 179.0\n"
     ]
    },
    {
     "data": {
      "image/png": "[encoded data removed]",
      "text/plain": [
       "<Figure size 640x480 with 1 Axes>"
      ]
     },
     "metadata": {},
     "output_type": "display_data"
    }
   ],
   "source": [
    "# Multiple Regression\n",
    "# Sample data\n",
    "X = np.array([[1, 100], [2, 200], [3, 200], [4, 200], [5, 300]])  # input values\n",
    "y = np.array([100, 150, 200, 250, 200])  # output values\n",
    "\n",
    "# Model\n",
    "mul_model = LinearRegression().fit(X, y)\n",
    "rSqr = mul_model.score(X,y)\n",
    "print(rSqr)\n",
    "b0, b1 = mul_model.intercept_, mul_model.coef_\n",
    "yHat = b1[0]*X[:,0] + b1[1]*X[:,1] + b0\n",
    "\n",
    "# Scatter plot between predicted and actual score of full model:\n",
    "plt.plot(yHat,y,'o',markersize=5)\n",
    "plt.xlabel('Predicted output')\n",
    "plt.ylabel('Actual output')\n",
    "plt.title('R^2 = {:.3f}'.format(rSqr))\n",
    "\n",
    "# Prediction\n",
    "new_X = np.array([[2, 200], [4, 200], [5, 300]])\n",
    "for i in range(len(new_X)):\n",
    "    print(\"Predicted output for an input with value of\", new_X[i], \":\", predicted_y[i])"
   ]
  },
  {
   "cell_type": "code",
   "execution_count": 44,
   "id": "0a3849d8",
   "metadata": {},
   "outputs": [
    {
     "name": "stdout",
     "output_type": "stream",
     "text": [
      "Predicted output for an input with value of [  2 200] : 145.0\n",
      "Predicted output for an input with value of [  4 200] : 173.0\n",
      "Predicted output for an input with value of [  5 300] : 173.0\n"
     ]
    }
   ],
   "source": [
    "# Random Forest Regression\n",
    "\n",
    "# 70% training and 30% test\n",
    "X_train, X_test, y_train, y_test = train_test_split(X, y, test_size = 0.50, random_state=123)\n",
    "\n",
    "# Model\n",
    "rf_model = RandomForestRegressor(max_depth=2).fit(X_train, y_train) # maximum depth of the trees = 2 to prevent overfitting\n",
    "\n",
    "# Prediction\n",
    "predicted_y = rf_model.predict(X_test)\n",
    "for i in range(len(X_test)):\n",
    "    print(\"Predicted output for an input with value of\", X_test[i], \":\", predicted_y[i])"
   ]
  },
  {
   "cell_type": "code",
   "execution_count": 47,
   "id": "47ae7bdd",
   "metadata": {},
   "outputs": [
    {
     "name": "stdout",
     "output_type": "stream",
     "text": [
      "Predicted output for an input with value of [  2 200] : 199.99800000000033\n",
      "Predicted output for an input with value of [  4 200] : 199.99800000000033\n",
      "Predicted output for an input with value of [  5 300] : 299.994000000001\n"
     ]
    }
   ],
   "source": [
    "# LASSO Regression\n",
    "\n",
    "# Create and fit the model\n",
    "lasso_model = Lasso(alpha=0.1).fit(X_train, y_train) # alpha: the amount of regularization\n",
    "\n",
    "# Prediction\n",
    "predicted_y = lasso_model.predict(X_test)\n",
    "for i in range(len(X_test)):\n",
    "    print(\"Predicted output for an input with value of\", X_test[i], \":\", predicted_y[i])"
   ]
  },
  {
   "cell_type": "code",
   "execution_count": null,
   "id": "9742380b",
   "metadata": {},
   "outputs": [],
   "source": []
  }
 ],
 "metadata": {
  "kernelspec": {
   "display_name": "Python 3 (ipykernel)",
   "language": "python",
   "name": "python3"
  },
  "language_info": {
   "codemirror_mode": {
    "name": "ipython",
    "version": 3
   },
   "file_extension": ".py",
   "mimetype": "text/x-python",
   "name": "python",
   "nbconvert_exporter": "python",
   "pygments_lexer": "ipython3",
   "version": "3.9.13"
  }
 },
 "nbformat": 4,
 "nbformat_minor": 5
}
