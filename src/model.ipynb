{
 "cells": [
  {
   "cell_type": "code",
   "execution_count": 1,
   "metadata": {
    "executionInfo": {
     "elapsed": 11180,
     "status": "ok",
     "timestamp": 1681667846488,
     "user": {
      "displayName": "Jiaxi Xie",
      "userId": "07877552585909003767"
     },
     "user_tz": 240
    },
    "id": "Xo6Uhn8JA39D"
   },
   "outputs": [],
   "source": [
    "import pandas as pd\n",
    "from sklearn.model_selection import train_test_split\n",
    "import numpy as np\n",
    "import matplotlib.pyplot as plt \n",
    "from sklearn.linear_model import LinearRegression\n",
    "from sklearn.ensemble import RandomForestRegressor\n",
    "from sklearn.linear_model import Lasso\n",
    "from sklearn.metrics import r2_score, mean_squared_error, mean_absolute_error\n",
    "from sklearn.preprocessing import StandardScaler\n",
    "import torch\n",
    "from torch import nn\n",
    "import math\n",
    "import joblib\n",
    "from sklearn.preprocessing import StandardScaler"
   ]
  },
  {
   "cell_type": "code",
   "execution_count": 2,
   "metadata": {
    "colab": {
     "base_uri": "https://localhost:8080/"
    },
    "executionInfo": {
     "elapsed": 16871,
     "status": "ok",
     "timestamp": 1681667863345,
     "user": {
      "displayName": "Jiaxi Xie",
      "userId": "07877552585909003767"
     },
     "user_tz": 240
    },
    "id": "-i72E9hjBq1c",
    "outputId": "9f069059-8ea7-4678-f831-f9fcf99bfadb"
   },
   "outputs": [
    {
     "name": "stdout",
     "output_type": "stream",
     "text": [
      "Mounted at /content/drive\n"
     ]
    }
   ],
   "source": [
    "from google.colab import drive\n",
    "drive.mount('/content/drive')\n",
    "data = pd.read_csv('/content/drive/My Drive/Multi_core/preprocessed_data_s_p_speedup.csv')"
   ]
  },
  {
   "cell_type": "code",
   "execution_count": 3,
   "metadata": {
    "executionInfo": {
     "elapsed": 9,
     "status": "ok",
     "timestamp": 1681667863345,
     "user": {
      "displayName": "Jiaxi Xie",
      "userId": "07877552585909003767"
     },
     "user_tz": 240
    },
    "id": "OEqJ2MY7EPW4"
   },
   "outputs": [],
   "source": [
    "y_col = ['Speedup']"
   ]
  },
  {
   "cell_type": "code",
   "execution_count": 4,
   "metadata": {
    "executionInfo": {
     "elapsed": 9,
     "status": "ok",
     "timestamp": 1681667863346,
     "user": {
      "displayName": "Jiaxi Xie",
      "userId": "07877552585909003767"
     },
     "user_tz": 240
    },
    "id": "jpbccmT0FGRI"
   },
   "outputs": [],
   "source": [
    "X = data.drop(y_col, axis=1)\n",
    "real_time = X['time']\n",
    "real_time.rename('real-time', inplace=True)\n",
    "y = data[y_col]"
   ]
  },
  {
   "cell_type": "code",
   "execution_count": 5,
   "metadata": {
    "colab": {
     "base_uri": "https://localhost:8080/",
     "height": 438
    },
    "executionInfo": {
     "elapsed": 9,
     "status": "ok",
     "timestamp": 1681667863346,
     "user": {
      "displayName": "Jiaxi Xie",
      "userId": "07877552585909003767"
     },
     "user_tz": 240
    },
    "id": "r5bV810_sKK3",
    "outputId": "b671091a-094d-4893-9fa4-b4ec5f86c2e7"
   },
   "outputs": [
    {
     "data": {
      "text/html": [
       "\n",
       "  <div id=\"df-fc89b856-a095-4227-ad54-0c301fcf46a7\">\n",
       "    <div class=\"colab-df-container\">\n",
       "      <div>\n",
       "<style scoped>\n",
       "    .dataframe tbody tr th:only-of-type {\n",
       "        vertical-align: middle;\n",
       "    }\n",
       "\n",
       "    .dataframe tbody tr th {\n",
       "        vertical-align: top;\n",
       "    }\n",
       "\n",
       "    .dataframe thead th {\n",
       "        text-align: right;\n",
       "    }\n",
       "</style>\n",
       "<table border=\"1\" class=\"dataframe\">\n",
       "  <thead>\n",
       "    <tr style=\"text-align: right;\">\n",
       "      <th></th>\n",
       "      <th>benchmarks</th>\n",
       "      <th>input-size</th>\n",
       "      <th>threads</th>\n",
       "      <th>branch-instructions</th>\n",
       "      <th>branch-misses</th>\n",
       "      <th>cache-misses</th>\n",
       "      <th>cache-misses-percent</th>\n",
       "      <th>cache-references</th>\n",
       "      <th>cpu-cycles</th>\n",
       "      <th>instructions</th>\n",
       "      <th>...</th>\n",
       "      <th>iTLB-load-misses</th>\n",
       "      <th>iTLB-load-misses-percent</th>\n",
       "      <th>iTLB-loads</th>\n",
       "      <th>time</th>\n",
       "      <th>user-time</th>\n",
       "      <th>sys-time</th>\n",
       "      <th>Vanilla_time</th>\n",
       "      <th>s</th>\n",
       "      <th>p</th>\n",
       "      <th>Overhead</th>\n",
       "    </tr>\n",
       "  </thead>\n",
       "  <tbody>\n",
       "    <tr>\n",
       "      <th>0</th>\n",
       "      <td>0</td>\n",
       "      <td>0</td>\n",
       "      <td>1</td>\n",
       "      <td>701055975</td>\n",
       "      <td>17648466</td>\n",
       "      <td>15449656</td>\n",
       "      <td>17.748</td>\n",
       "      <td>87049472</td>\n",
       "      <td>5042954127</td>\n",
       "      <td>3103700755</td>\n",
       "      <td>...</td>\n",
       "      <td>327446</td>\n",
       "      <td>0.02</td>\n",
       "      <td>1420493334</td>\n",
       "      <td>0.170</td>\n",
       "      <td>0.163</td>\n",
       "      <td>0.002</td>\n",
       "      <td>0.1700</td>\n",
       "      <td>0.02</td>\n",
       "      <td>0.15</td>\n",
       "      <td>2.775558e-17</td>\n",
       "    </tr>\n",
       "    <tr>\n",
       "      <th>1</th>\n",
       "      <td>0</td>\n",
       "      <td>0</td>\n",
       "      <td>2</td>\n",
       "      <td>622592409</td>\n",
       "      <td>14137300</td>\n",
       "      <td>12229722</td>\n",
       "      <td>15.963</td>\n",
       "      <td>76615020</td>\n",
       "      <td>4340093839</td>\n",
       "      <td>2561838937</td>\n",
       "      <td>...</td>\n",
       "      <td>253387</td>\n",
       "      <td>0.02</td>\n",
       "      <td>1207726784</td>\n",
       "      <td>0.096</td>\n",
       "      <td>0.143</td>\n",
       "      <td>0.005</td>\n",
       "      <td>0.0950</td>\n",
       "      <td>0.02</td>\n",
       "      <td>0.15</td>\n",
       "      <td>1.000000e-03</td>\n",
       "    </tr>\n",
       "    <tr>\n",
       "      <th>2</th>\n",
       "      <td>0</td>\n",
       "      <td>0</td>\n",
       "      <td>3</td>\n",
       "      <td>679821950</td>\n",
       "      <td>16405040</td>\n",
       "      <td>14331050</td>\n",
       "      <td>17.153</td>\n",
       "      <td>83550042</td>\n",
       "      <td>4982218435</td>\n",
       "      <td>2910966912</td>\n",
       "      <td>...</td>\n",
       "      <td>298539</td>\n",
       "      <td>0.02</td>\n",
       "      <td>1371134948</td>\n",
       "      <td>0.072</td>\n",
       "      <td>0.137</td>\n",
       "      <td>0.005</td>\n",
       "      <td>0.0700</td>\n",
       "      <td>0.02</td>\n",
       "      <td>0.15</td>\n",
       "      <td>2.000000e-03</td>\n",
       "    </tr>\n",
       "    <tr>\n",
       "      <th>3</th>\n",
       "      <td>0</td>\n",
       "      <td>0</td>\n",
       "      <td>4</td>\n",
       "      <td>608419902</td>\n",
       "      <td>15653840</td>\n",
       "      <td>13670191</td>\n",
       "      <td>16.563</td>\n",
       "      <td>82536467</td>\n",
       "      <td>4535489921</td>\n",
       "      <td>2579612509</td>\n",
       "      <td>...</td>\n",
       "      <td>321999</td>\n",
       "      <td>0.03</td>\n",
       "      <td>1276636211</td>\n",
       "      <td>0.060</td>\n",
       "      <td>0.135</td>\n",
       "      <td>0.005</td>\n",
       "      <td>0.0575</td>\n",
       "      <td>0.02</td>\n",
       "      <td>0.15</td>\n",
       "      <td>2.500000e-03</td>\n",
       "    </tr>\n",
       "    <tr>\n",
       "      <th>4</th>\n",
       "      <td>0</td>\n",
       "      <td>0</td>\n",
       "      <td>5</td>\n",
       "      <td>695480038</td>\n",
       "      <td>16147308</td>\n",
       "      <td>12969822</td>\n",
       "      <td>17.499</td>\n",
       "      <td>74118348</td>\n",
       "      <td>4951607442</td>\n",
       "      <td>3031154287</td>\n",
       "      <td>...</td>\n",
       "      <td>317051</td>\n",
       "      <td>0.02</td>\n",
       "      <td>1362047764</td>\n",
       "      <td>0.053</td>\n",
       "      <td>0.134</td>\n",
       "      <td>0.004</td>\n",
       "      <td>0.0500</td>\n",
       "      <td>0.02</td>\n",
       "      <td>0.15</td>\n",
       "      <td>3.000000e-03</td>\n",
       "    </tr>\n",
       "  </tbody>\n",
       "</table>\n",
       "<p>5 rows × 51 columns</p>\n",
       "</div>\n",
       "      <button class=\"colab-df-convert\" onclick=\"convertToInteractive('df-fc89b856-a095-4227-ad54-0c301fcf46a7')\"\n",
       "              title=\"Convert this dataframe to an interactive table.\"\n",
       "              style=\"display:none;\">\n",
       "        \n",
       "  <svg xmlns=\"http://www.w3.org/2000/svg\" height=\"24px\"viewBox=\"0 0 24 24\"\n",
       "       width=\"24px\">\n",
       "    <path d=\"M0 0h24v24H0V0z\" fill=\"none\"/>\n",
       "    <path d=\"M18.56 5.44l.94 2.06.94-2.06 2.06-.94-2.06-.94-.94-2.06-.94 2.06-2.06.94zm-11 1L8.5 8.5l.94-2.06 2.06-.94-2.06-.94L8.5 2.5l-.94 2.06-2.06.94zm10 10l.94 2.06.94-2.06 2.06-.94-2.06-.94-.94-2.06-.94 2.06-2.06.94z\"/><path d=\"M17.41 7.96l-1.37-1.37c-.4-.4-.92-.59-1.43-.59-.52 0-1.04.2-1.43.59L10.3 9.45l-7.72 7.72c-.78.78-.78 2.05 0 2.83L4 21.41c.39.39.9.59 1.41.59.51 0 1.02-.2 1.41-.59l7.78-7.78 2.81-2.81c.8-.78.8-2.07 0-2.86zM5.41 20L4 18.59l7.72-7.72 1.47 1.35L5.41 20z\"/>\n",
       "  </svg>\n",
       "      </button>\n",
       "      \n",
       "  <style>\n",
       "    .colab-df-container {\n",
       "      display:flex;\n",
       "      flex-wrap:wrap;\n",
       "      gap: 12px;\n",
       "    }\n",
       "\n",
       "    .colab-df-convert {\n",
       "      background-color: #E8F0FE;\n",
       "      border: none;\n",
       "      border-radius: 50%;\n",
       "      cursor: pointer;\n",
       "      display: none;\n",
       "      fill: #1967D2;\n",
       "      height: 32px;\n",
       "      padding: 0 0 0 0;\n",
       "      width: 32px;\n",
       "    }\n",
       "\n",
       "    .colab-df-convert:hover {\n",
       "      background-color: #E2EBFA;\n",
       "      box-shadow: 0px 1px 2px rgba(60, 64, 67, 0.3), 0px 1px 3px 1px rgba(60, 64, 67, 0.15);\n",
       "      fill: #174EA6;\n",
       "    }\n",
       "\n",
       "    [theme=dark] .colab-df-convert {\n",
       "      background-color: #3B4455;\n",
       "      fill: #D2E3FC;\n",
       "    }\n",
       "\n",
       "    [theme=dark] .colab-df-convert:hover {\n",
       "      background-color: #434B5C;\n",
       "      box-shadow: 0px 1px 3px 1px rgba(0, 0, 0, 0.15);\n",
       "      filter: drop-shadow(0px 1px 2px rgba(0, 0, 0, 0.3));\n",
       "      fill: #FFFFFF;\n",
       "    }\n",
       "  </style>\n",
       "\n",
       "      <script>\n",
       "        const buttonEl =\n",
       "          document.querySelector('#df-fc89b856-a095-4227-ad54-0c301fcf46a7 button.colab-df-convert');\n",
       "        buttonEl.style.display =\n",
       "          google.colab.kernel.accessAllowed ? 'block' : 'none';\n",
       "\n",
       "        async function convertToInteractive(key) {\n",
       "          const element = document.querySelector('#df-fc89b856-a095-4227-ad54-0c301fcf46a7');\n",
       "          const dataTable =\n",
       "            await google.colab.kernel.invokeFunction('convertToInteractive',\n",
       "                                                     [key], {});\n",
       "          if (!dataTable) return;\n",
       "\n",
       "          const docLinkHtml = 'Like what you see? Visit the ' +\n",
       "            '<a target=\"_blank\" href=https://colab.research.google.com/notebooks/data_table.ipynb>data table notebook</a>'\n",
       "            + ' to learn more about interactive tables.';\n",
       "          element.innerHTML = '';\n",
       "          dataTable['output_type'] = 'display_data';\n",
       "          await google.colab.output.renderOutput(dataTable, element);\n",
       "          const docLink = document.createElement('div');\n",
       "          docLink.innerHTML = docLinkHtml;\n",
       "          element.appendChild(docLink);\n",
       "        }\n",
       "      </script>\n",
       "    </div>\n",
       "  </div>\n",
       "  "
      ],
      "text/plain": [
       "   benchmarks  input-size  threads  branch-instructions  branch-misses  \\\n",
       "0           0           0        1            701055975       17648466   \n",
       "1           0           0        2            622592409       14137300   \n",
       "2           0           0        3            679821950       16405040   \n",
       "3           0           0        4            608419902       15653840   \n",
       "4           0           0        5            695480038       16147308   \n",
       "\n",
       "   cache-misses  cache-misses-percent  cache-references  cpu-cycles  \\\n",
       "0      15449656                17.748          87049472  5042954127   \n",
       "1      12229722                15.963          76615020  4340093839   \n",
       "2      14331050                17.153          83550042  4982218435   \n",
       "3      13670191                16.563          82536467  4535489921   \n",
       "4      12969822                17.499          74118348  4951607442   \n",
       "\n",
       "   instructions  ...  iTLB-load-misses  iTLB-load-misses-percent  iTLB-loads  \\\n",
       "0    3103700755  ...            327446                      0.02  1420493334   \n",
       "1    2561838937  ...            253387                      0.02  1207726784   \n",
       "2    2910966912  ...            298539                      0.02  1371134948   \n",
       "3    2579612509  ...            321999                      0.03  1276636211   \n",
       "4    3031154287  ...            317051                      0.02  1362047764   \n",
       "\n",
       "    time  user-time  sys-time  Vanilla_time     s     p      Overhead  \n",
       "0  0.170      0.163     0.002        0.1700  0.02  0.15  2.775558e-17  \n",
       "1  0.096      0.143     0.005        0.0950  0.02  0.15  1.000000e-03  \n",
       "2  0.072      0.137     0.005        0.0700  0.02  0.15  2.000000e-03  \n",
       "3  0.060      0.135     0.005        0.0575  0.02  0.15  2.500000e-03  \n",
       "4  0.053      0.134     0.004        0.0500  0.02  0.15  3.000000e-03  \n",
       "\n",
       "[5 rows x 51 columns]"
      ]
     },
     "execution_count": 5,
     "metadata": {},
     "output_type": "execute_result"
    }
   ],
   "source": [
    "X.head()"
   ]
  },
  {
   "cell_type": "code",
   "execution_count": 6,
   "metadata": {
    "executionInfo": {
     "elapsed": 194,
     "status": "ok",
     "timestamp": 1681667863534,
     "user": {
      "displayName": "Jiaxi Xie",
      "userId": "07877552585909003767"
     },
     "user_tz": 240
    },
    "id": "TTdcYaZsBfAM"
   },
   "outputs": [],
   "source": [
    "scaler = StandardScaler()\n",
    "X = pd.DataFrame(scaler.fit_transform(X), columns=X.columns)"
   ]
  },
  {
   "cell_type": "code",
   "execution_count": 7,
   "metadata": {
    "executionInfo": {
     "elapsed": 195,
     "status": "ok",
     "timestamp": 1681667863535,
     "user": {
      "displayName": "Jiaxi Xie",
      "userId": "07877552585909003767"
     },
     "user_tz": 240
    },
    "id": "xBEW1YmFCjIR"
   },
   "outputs": [],
   "source": [
    "X = pd.concat([real_time,X],axis=1)"
   ]
  },
  {
   "cell_type": "code",
   "execution_count": 8,
   "metadata": {
    "colab": {
     "base_uri": "https://localhost:8080/",
     "height": 352
    },
    "executionInfo": {
     "elapsed": 4,
     "status": "ok",
     "timestamp": 1681667863535,
     "user": {
      "displayName": "Jiaxi Xie",
      "userId": "07877552585909003767"
     },
     "user_tz": 240
    },
    "id": "h72qw2XU9z0G",
    "outputId": "1b80a7b2-4018-482c-e817-9a7aff213a0c"
   },
   "outputs": [
    {
     "data": {
      "text/html": [
       "\n",
       "  <div id=\"df-05775054-66dc-41e8-8e22-1876c03f9bb1\">\n",
       "    <div class=\"colab-df-container\">\n",
       "      <div>\n",
       "<style scoped>\n",
       "    .dataframe tbody tr th:only-of-type {\n",
       "        vertical-align: middle;\n",
       "    }\n",
       "\n",
       "    .dataframe tbody tr th {\n",
       "        vertical-align: top;\n",
       "    }\n",
       "\n",
       "    .dataframe thead th {\n",
       "        text-align: right;\n",
       "    }\n",
       "</style>\n",
       "<table border=\"1\" class=\"dataframe\">\n",
       "  <thead>\n",
       "    <tr style=\"text-align: right;\">\n",
       "      <th></th>\n",
       "      <th>real-time</th>\n",
       "      <th>benchmarks</th>\n",
       "      <th>input-size</th>\n",
       "      <th>threads</th>\n",
       "      <th>branch-instructions</th>\n",
       "      <th>branch-misses</th>\n",
       "      <th>cache-misses</th>\n",
       "      <th>cache-misses-percent</th>\n",
       "      <th>cache-references</th>\n",
       "      <th>cpu-cycles</th>\n",
       "      <th>...</th>\n",
       "      <th>iTLB-load-misses</th>\n",
       "      <th>iTLB-load-misses-percent</th>\n",
       "      <th>iTLB-loads</th>\n",
       "      <th>time</th>\n",
       "      <th>user-time</th>\n",
       "      <th>sys-time</th>\n",
       "      <th>Vanilla_time</th>\n",
       "      <th>s</th>\n",
       "      <th>p</th>\n",
       "      <th>Overhead</th>\n",
       "    </tr>\n",
       "  </thead>\n",
       "  <tbody>\n",
       "    <tr>\n",
       "      <th>0</th>\n",
       "      <td>0.170</td>\n",
       "      <td>-1.598475</td>\n",
       "      <td>-1.224587</td>\n",
       "      <td>-1.565944</td>\n",
       "      <td>-0.691894</td>\n",
       "      <td>-0.585704</td>\n",
       "      <td>-0.425244</td>\n",
       "      <td>1.060686</td>\n",
       "      <td>-0.465694</td>\n",
       "      <td>-0.775757</td>\n",
       "      <td>...</td>\n",
       "      <td>0.206387</td>\n",
       "      <td>1.174140</td>\n",
       "      <td>-0.711748</td>\n",
       "      <td>-0.592285</td>\n",
       "      <td>-0.807656</td>\n",
       "      <td>-0.383181</td>\n",
       "      <td>-0.540923</td>\n",
       "      <td>-0.499029</td>\n",
       "      <td>-0.777438</td>\n",
       "      <td>-0.389241</td>\n",
       "    </tr>\n",
       "    <tr>\n",
       "      <th>1</th>\n",
       "      <td>0.096</td>\n",
       "      <td>-1.598475</td>\n",
       "      <td>-1.224587</td>\n",
       "      <td>-1.353131</td>\n",
       "      <td>-0.725379</td>\n",
       "      <td>-0.631967</td>\n",
       "      <td>-0.545511</td>\n",
       "      <td>0.679034</td>\n",
       "      <td>-0.490313</td>\n",
       "      <td>-0.817381</td>\n",
       "      <td>...</td>\n",
       "      <td>-0.547338</td>\n",
       "      <td>1.174140</td>\n",
       "      <td>-0.754194</td>\n",
       "      <td>-0.623110</td>\n",
       "      <td>-0.810681</td>\n",
       "      <td>-0.380860</td>\n",
       "      <td>-0.572140</td>\n",
       "      <td>-0.499029</td>\n",
       "      <td>-0.777438</td>\n",
       "      <td>-0.386057</td>\n",
       "    </tr>\n",
       "    <tr>\n",
       "      <th>2</th>\n",
       "      <td>0.072</td>\n",
       "      <td>-1.598475</td>\n",
       "      <td>-1.224587</td>\n",
       "      <td>-1.140318</td>\n",
       "      <td>-0.700956</td>\n",
       "      <td>-0.602087</td>\n",
       "      <td>-0.467025</td>\n",
       "      <td>0.933469</td>\n",
       "      <td>-0.473951</td>\n",
       "      <td>-0.779354</td>\n",
       "      <td>...</td>\n",
       "      <td>-0.087810</td>\n",
       "      <td>1.174140</td>\n",
       "      <td>-0.721595</td>\n",
       "      <td>-0.633108</td>\n",
       "      <td>-0.811588</td>\n",
       "      <td>-0.380860</td>\n",
       "      <td>-0.582546</td>\n",
       "      <td>-0.499029</td>\n",
       "      <td>-0.777438</td>\n",
       "      <td>-0.382874</td>\n",
       "    </tr>\n",
       "    <tr>\n",
       "      <th>3</th>\n",
       "      <td>0.060</td>\n",
       "      <td>-1.598475</td>\n",
       "      <td>-1.224587</td>\n",
       "      <td>-0.927504</td>\n",
       "      <td>-0.731427</td>\n",
       "      <td>-0.611985</td>\n",
       "      <td>-0.491708</td>\n",
       "      <td>0.807321</td>\n",
       "      <td>-0.476342</td>\n",
       "      <td>-0.805809</td>\n",
       "      <td>...</td>\n",
       "      <td>0.150951</td>\n",
       "      <td>2.431999</td>\n",
       "      <td>-0.740447</td>\n",
       "      <td>-0.638106</td>\n",
       "      <td>-0.811891</td>\n",
       "      <td>-0.380860</td>\n",
       "      <td>-0.587748</td>\n",
       "      <td>-0.499029</td>\n",
       "      <td>-0.777438</td>\n",
       "      <td>-0.381283</td>\n",
       "    </tr>\n",
       "    <tr>\n",
       "      <th>4</th>\n",
       "      <td>0.053</td>\n",
       "      <td>-1.598475</td>\n",
       "      <td>-1.224587</td>\n",
       "      <td>-0.714691</td>\n",
       "      <td>-0.694273</td>\n",
       "      <td>-0.605483</td>\n",
       "      <td>-0.517868</td>\n",
       "      <td>1.007448</td>\n",
       "      <td>-0.496204</td>\n",
       "      <td>-0.781166</td>\n",
       "      <td>...</td>\n",
       "      <td>0.100593</td>\n",
       "      <td>1.174140</td>\n",
       "      <td>-0.723408</td>\n",
       "      <td>-0.641022</td>\n",
       "      <td>-0.812042</td>\n",
       "      <td>-0.381634</td>\n",
       "      <td>-0.590870</td>\n",
       "      <td>-0.499029</td>\n",
       "      <td>-0.777438</td>\n",
       "      <td>-0.379691</td>\n",
       "    </tr>\n",
       "  </tbody>\n",
       "</table>\n",
       "<p>5 rows × 52 columns</p>\n",
       "</div>\n",
       "      <button class=\"colab-df-convert\" onclick=\"convertToInteractive('df-05775054-66dc-41e8-8e22-1876c03f9bb1')\"\n",
       "              title=\"Convert this dataframe to an interactive table.\"\n",
       "              style=\"display:none;\">\n",
       "        \n",
       "  <svg xmlns=\"http://www.w3.org/2000/svg\" height=\"24px\"viewBox=\"0 0 24 24\"\n",
       "       width=\"24px\">\n",
       "    <path d=\"M0 0h24v24H0V0z\" fill=\"none\"/>\n",
       "    <path d=\"M18.56 5.44l.94 2.06.94-2.06 2.06-.94-2.06-.94-.94-2.06-.94 2.06-2.06.94zm-11 1L8.5 8.5l.94-2.06 2.06-.94-2.06-.94L8.5 2.5l-.94 2.06-2.06.94zm10 10l.94 2.06.94-2.06 2.06-.94-2.06-.94-.94-2.06-.94 2.06-2.06.94z\"/><path d=\"M17.41 7.96l-1.37-1.37c-.4-.4-.92-.59-1.43-.59-.52 0-1.04.2-1.43.59L10.3 9.45l-7.72 7.72c-.78.78-.78 2.05 0 2.83L4 21.41c.39.39.9.59 1.41.59.51 0 1.02-.2 1.41-.59l7.78-7.78 2.81-2.81c.8-.78.8-2.07 0-2.86zM5.41 20L4 18.59l7.72-7.72 1.47 1.35L5.41 20z\"/>\n",
       "  </svg>\n",
       "      </button>\n",
       "      \n",
       "  <style>\n",
       "    .colab-df-container {\n",
       "      display:flex;\n",
       "      flex-wrap:wrap;\n",
       "      gap: 12px;\n",
       "    }\n",
       "\n",
       "    .colab-df-convert {\n",
       "      background-color: #E8F0FE;\n",
       "      border: none;\n",
       "      border-radius: 50%;\n",
       "      cursor: pointer;\n",
       "      display: none;\n",
       "      fill: #1967D2;\n",
       "      height: 32px;\n",
       "      padding: 0 0 0 0;\n",
       "      width: 32px;\n",
       "    }\n",
       "\n",
       "    .colab-df-convert:hover {\n",
       "      background-color: #E2EBFA;\n",
       "      box-shadow: 0px 1px 2px rgba(60, 64, 67, 0.3), 0px 1px 3px 1px rgba(60, 64, 67, 0.15);\n",
       "      fill: #174EA6;\n",
       "    }\n",
       "\n",
       "    [theme=dark] .colab-df-convert {\n",
       "      background-color: #3B4455;\n",
       "      fill: #D2E3FC;\n",
       "    }\n",
       "\n",
       "    [theme=dark] .colab-df-convert:hover {\n",
       "      background-color: #434B5C;\n",
       "      box-shadow: 0px 1px 3px 1px rgba(0, 0, 0, 0.15);\n",
       "      filter: drop-shadow(0px 1px 2px rgba(0, 0, 0, 0.3));\n",
       "      fill: #FFFFFF;\n",
       "    }\n",
       "  </style>\n",
       "\n",
       "      <script>\n",
       "        const buttonEl =\n",
       "          document.querySelector('#df-05775054-66dc-41e8-8e22-1876c03f9bb1 button.colab-df-convert');\n",
       "        buttonEl.style.display =\n",
       "          google.colab.kernel.accessAllowed ? 'block' : 'none';\n",
       "\n",
       "        async function convertToInteractive(key) {\n",
       "          const element = document.querySelector('#df-05775054-66dc-41e8-8e22-1876c03f9bb1');\n",
       "          const dataTable =\n",
       "            await google.colab.kernel.invokeFunction('convertToInteractive',\n",
       "                                                     [key], {});\n",
       "          if (!dataTable) return;\n",
       "\n",
       "          const docLinkHtml = 'Like what you see? Visit the ' +\n",
       "            '<a target=\"_blank\" href=https://colab.research.google.com/notebooks/data_table.ipynb>data table notebook</a>'\n",
       "            + ' to learn more about interactive tables.';\n",
       "          element.innerHTML = '';\n",
       "          dataTable['output_type'] = 'display_data';\n",
       "          await google.colab.output.renderOutput(dataTable, element);\n",
       "          const docLink = document.createElement('div');\n",
       "          docLink.innerHTML = docLinkHtml;\n",
       "          element.appendChild(docLink);\n",
       "        }\n",
       "      </script>\n",
       "    </div>\n",
       "  </div>\n",
       "  "
      ],
      "text/plain": [
       "   real-time  benchmarks  input-size   threads  branch-instructions  \\\n",
       "0      0.170   -1.598475   -1.224587 -1.565944            -0.691894   \n",
       "1      0.096   -1.598475   -1.224587 -1.353131            -0.725379   \n",
       "2      0.072   -1.598475   -1.224587 -1.140318            -0.700956   \n",
       "3      0.060   -1.598475   -1.224587 -0.927504            -0.731427   \n",
       "4      0.053   -1.598475   -1.224587 -0.714691            -0.694273   \n",
       "\n",
       "   branch-misses  cache-misses  cache-misses-percent  cache-references  \\\n",
       "0      -0.585704     -0.425244              1.060686         -0.465694   \n",
       "1      -0.631967     -0.545511              0.679034         -0.490313   \n",
       "2      -0.602087     -0.467025              0.933469         -0.473951   \n",
       "3      -0.611985     -0.491708              0.807321         -0.476342   \n",
       "4      -0.605483     -0.517868              1.007448         -0.496204   \n",
       "\n",
       "   cpu-cycles  ...  iTLB-load-misses  iTLB-load-misses-percent  iTLB-loads  \\\n",
       "0   -0.775757  ...          0.206387                  1.174140   -0.711748   \n",
       "1   -0.817381  ...         -0.547338                  1.174140   -0.754194   \n",
       "2   -0.779354  ...         -0.087810                  1.174140   -0.721595   \n",
       "3   -0.805809  ...          0.150951                  2.431999   -0.740447   \n",
       "4   -0.781166  ...          0.100593                  1.174140   -0.723408   \n",
       "\n",
       "       time  user-time  sys-time  Vanilla_time         s         p  Overhead  \n",
       "0 -0.592285  -0.807656 -0.383181     -0.540923 -0.499029 -0.777438 -0.389241  \n",
       "1 -0.623110  -0.810681 -0.380860     -0.572140 -0.499029 -0.777438 -0.386057  \n",
       "2 -0.633108  -0.811588 -0.380860     -0.582546 -0.499029 -0.777438 -0.382874  \n",
       "3 -0.638106  -0.811891 -0.380860     -0.587748 -0.499029 -0.777438 -0.381283  \n",
       "4 -0.641022  -0.812042 -0.381634     -0.590870 -0.499029 -0.777438 -0.379691  \n",
       "\n",
       "[5 rows x 52 columns]"
      ]
     },
     "execution_count": 8,
     "metadata": {},
     "output_type": "execute_result"
    }
   ],
   "source": [
    "X.head()"
   ]
  },
  {
   "cell_type": "code",
   "execution_count": 9,
   "metadata": {
    "executionInfo": {
     "elapsed": 3,
     "status": "ok",
     "timestamp": 1681667863535,
     "user": {
      "displayName": "Jiaxi Xie",
      "userId": "07877552585909003767"
     },
     "user_tz": 240
    },
    "id": "2A4KzEZ7FOh4"
   },
   "outputs": [],
   "source": [
    "X_train, X_rem, y_train, y_rem = train_test_split(X, y, test_size=0.3, random_state=42)\n",
    "X_val, X_test, y_val, y_test = train_test_split(X_rem, y_rem, test_size=0.5, random_state=42)"
   ]
  },
  {
   "cell_type": "code",
   "execution_count": 10,
   "metadata": {
    "colab": {
     "base_uri": "https://localhost:8080/"
    },
    "executionInfo": {
     "elapsed": 780,
     "status": "ok",
     "timestamp": 1681667864312,
     "user": {
      "displayName": "Jiaxi Xie",
      "userId": "07877552585909003767"
     },
     "user_tz": 240
    },
    "id": "vrppmkw6FXV2",
    "outputId": "b8d7a23b-209d-4b5e-9ccc-e5d7ce31113c"
   },
   "outputs": [
    {
     "name": "stderr",
     "output_type": "stream",
     "text": [
      "/usr/local/lib/python3.9/dist-packages/sklearn/base.py:318: UserWarning: Trying to unpickle estimator LinearRegression from version 1.0.2 when using version 1.2.2. This might lead to breaking code or invalid results. Use at your own risk. For more info please refer to:\n",
      "https://scikit-learn.org/stable/model_persistence.html#security-maintainability-limitations\n",
      "  warnings.warn(\n"
     ]
    }
   ],
   "source": [
    "#load Models\n",
    "snet_path = \"/content/drive/My Drive/Multi_core/SNet.pt\"\n",
    "pnet_path = \"/content/drive/My Drive/Multi_core/PNet.pt\"\n",
    "oh_path = \"/content/drive/My Drive/Multi_core/overhead_model.joblib\"\n",
    "SNet = torch.load(snet_path)\n",
    "PNet = torch.load(pnet_path)\n",
    "oh_predictor = joblib.load(oh_path)"
   ]
  },
  {
   "cell_type": "code",
   "execution_count": 11,
   "metadata": {
    "colab": {
     "base_uri": "https://localhost:8080/"
    },
    "executionInfo": {
     "elapsed": 5,
     "status": "ok",
     "timestamp": 1681667864313,
     "user": {
      "displayName": "Jiaxi Xie",
      "userId": "07877552585909003767"
     },
     "user_tz": 240
    },
    "id": "7LyPfUa2Ktmp",
    "outputId": "8e11a8e3-291e-4cb3-8891-05cba10fa580"
   },
   "outputs": [
    {
     "data": {
      "text/plain": [
       "Sequential(\n",
       "  (0): Linear(in_features=6, out_features=64, bias=True)\n",
       "  (1): ReLU()\n",
       "  (2): Linear(in_features=64, out_features=64, bias=True)\n",
       "  (3): ReLU()\n",
       "  (4): Linear(in_features=64, out_features=1, bias=True)\n",
       ")"
      ]
     },
     "execution_count": 11,
     "metadata": {},
     "output_type": "execute_result"
    }
   ],
   "source": [
    "SNet.eval()"
   ]
  },
  {
   "cell_type": "code",
   "execution_count": 12,
   "metadata": {
    "colab": {
     "base_uri": "https://localhost:8080/"
    },
    "executionInfo": {
     "elapsed": 3,
     "status": "ok",
     "timestamp": 1681667864313,
     "user": {
      "displayName": "Jiaxi Xie",
      "userId": "07877552585909003767"
     },
     "user_tz": 240
    },
    "id": "EvqQCw3DLyQQ",
    "outputId": "d2a211fd-6e37-4a02-db13-973bee2ab69d"
   },
   "outputs": [
    {
     "data": {
      "text/plain": [
       "Sequential(\n",
       "  (0): Linear(in_features=5, out_features=64, bias=True)\n",
       "  (1): ReLU()\n",
       "  (2): Linear(in_features=64, out_features=64, bias=True)\n",
       "  (3): ReLU()\n",
       "  (4): Linear(in_features=64, out_features=1, bias=True)\n",
       ")"
      ]
     },
     "execution_count": 12,
     "metadata": {},
     "output_type": "execute_result"
    }
   ],
   "source": [
    "PNet.eval()"
   ]
  },
  {
   "cell_type": "code",
   "execution_count": 13,
   "metadata": {
    "executionInfo": {
     "elapsed": 2,
     "status": "ok",
     "timestamp": 1681667864313,
     "user": {
      "displayName": "Jiaxi Xie",
      "userId": "07877552585909003767"
     },
     "user_tz": 240
    },
    "id": "UWvR6JmyIX5b"
   },
   "outputs": [],
   "source": [
    "def speedup_predictor(t_s, t_p, oh, t_run): \n",
    "  return (t_s + t_p + oh) / t_run"
   ]
  },
  {
   "cell_type": "code",
   "execution_count": 14,
   "metadata": {
    "executionInfo": {
     "elapsed": 2,
     "status": "ok",
     "timestamp": 1681667864313,
     "user": {
      "displayName": "Jiaxi Xie",
      "userId": "07877552585909003767"
     },
     "user_tz": 240
    },
    "id": "23YW3X19Iupg"
   },
   "outputs": [],
   "source": [
    "def modelSpeed(input):\n",
    "  speedups = []\n",
    "  input_s = torch.tensor(input[['cache-misses', 'dTLB-load-misses', 'time', 'branch-load-misses', 'L1-icache-load-misses', 'cpu-cycles']].values)\n",
    "  input_p = torch.tensor(input[['L1-dcache-load-misses', 'time', 'dTLB-loads', 'cpu-used', 'branch-load-misses']].values)\n",
    "  times = input['real-time'].values\n",
    "  # t_s_truth = input['s'].values\n",
    "  # t_p_truth = input['p'].values\n",
    "  # oh_truth = input['Overhead'].values\n",
    "  with torch.no_grad():\n",
    "    for i in range(len(input)):\n",
    "      t_s = SNet(input_s[i]).tolist()[0] \n",
    "      t_p = PNet(input_p[i]).tolist()[0] \n",
    "      oh = oh_predictor.predict([[1]])[0]\n",
    "      speedup = speedup_predictor(t_s, t_p, oh, times[i])\n",
    "      # print(\"t_s\", t_s)\n",
    "      # print(\"t_p\", t_p)\n",
    "      # print(\"oh\", oh)\n",
    "      # print(\"speedup\", speedup)\n",
    "      speedups.append(speedup)\n",
    "  return np.array(speedups)"
   ]
  },
  {
   "cell_type": "code",
   "execution_count": 15,
   "metadata": {
    "colab": {
     "base_uri": "https://localhost:8080/"
    },
    "executionInfo": {
     "elapsed": 488,
     "status": "ok",
     "timestamp": 1681667864799,
     "user": {
      "displayName": "Jiaxi Xie",
      "userId": "07877552585909003767"
     },
     "user_tz": 240
    },
    "id": "GswWmDlzZfDz",
    "outputId": "64b07765-0ad7-43c0-99e2-7f63a24c7725"
   },
   "outputs": [
    {
     "name": "stdout",
     "output_type": "stream",
     "text": [
      "MAE: 0.24468250627425459\n",
      "RMSE: 0.4810128546564068\n"
     ]
    }
   ],
   "source": [
    "y_pred = modelSpeed(X_test)\n",
    "# Calculate MAE\n",
    "mae = mean_absolute_error(y_test.values.reshape(-1), y_pred)\n",
    "print(\"MAE:\", mae)\n",
    "\n",
    "# Calculate RMSE\n",
    "rmse = np.sqrt(mean_squared_error(y_test.values.reshape(-1), y_pred))\n",
    "print(\"RMSE:\", rmse)"
   ]
  },
  {
   "cell_type": "code",
   "execution_count": 16,
   "metadata": {
    "colab": {
     "base_uri": "https://localhost:8080/",
     "height": 430
    },
    "executionInfo": {
     "elapsed": 488,
     "status": "ok",
     "timestamp": 1681667865286,
     "user": {
      "displayName": "Jiaxi Xie",
      "userId": "07877552585909003767"
     },
     "user_tz": 240
    },
    "id": "1TJhPuHNp_G0",
    "outputId": "bb9ab433-4929-4035-ce4e-a4dd32eb79df"
   },
   "outputs": [
    {
     "data": {
      "image/png": "[encoded data removed]",
      "text/plain": [
       "<Figure size 640x480 with 1 Axes>"
      ]
     },
     "metadata": {},
     "output_type": "display_data"
    }
   ],
   "source": [
    "plt.plot(np.array([i for i in range(len(y_pred))]), y_pred.reshape(-1), '.', label=\"Prediction\")\n",
    "plt.plot(np.array([i for i in range(len(y_pred))]), y_test.values.reshape(-1), '.', label=\"truth\")\n",
    "plt.legend()\n",
    "plt.show()"
   ]
  }
 ],
 "metadata": {
  "colab": {
   "authorship_tag": "ABX9TyM/+ny/VQU8Eam8DM/5Rzvk",
   "provenance": []
  },
  "kernelspec": {
   "display_name": "Python 3 (ipykernel)",
   "language": "python",
   "name": "python3"
  },
  "language_info": {
   "codemirror_mode": {
    "name": "ipython",
    "version": 3
   },
   "file_extension": ".py",
   "mimetype": "text/x-python",
   "name": "python",
   "nbconvert_exporter": "python",
   "pygments_lexer": "ipython3",
   "version": "3.9.10"
  },
  "varInspector": {
   "cols": {
    "lenName": 16,
    "lenType": 16,
    "lenVar": 40
   },
   "kernels_config": {
    "python": {
     "delete_cmd_postfix": "",
     "delete_cmd_prefix": "del ",
     "library": "var_list.py",
     "varRefreshCmd": "print(var_dic_list())"
    },
    "r": {
     "delete_cmd_postfix": ") ",
     "delete_cmd_prefix": "rm(",
     "library": "var_list.r",
     "varRefreshCmd": "cat(var_dic_list()) "
    }
   },
   "types_to_exclude": [
    "module",
    "function",
    "builtin_function_or_method",
    "instance",
    "_Feature"
   ],
   "window_display": false
  }
 },
 "nbformat": 4,
 "nbformat_minor": 1
}
