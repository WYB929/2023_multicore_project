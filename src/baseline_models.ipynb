{
 "cells": [
  {
   "cell_type": "code",
   "execution_count": 1,
   "id": "6324cf28",
   "metadata": {
    "ExecuteTime": {
     "end_time": "2023-04-16T18:11:17.049467Z",
     "start_time": "2023-04-16T18:11:17.039357Z"
    },
    "executionInfo": {
     "elapsed": 138,
     "status": "ok",
     "timestamp": 1681871220105,
     "user": {
      "displayName": "Jiaxi Xie",
      "userId": "07877552585909003767"
     },
     "user_tz": 240
    },
    "id": "6324cf28",
    "pycharm": {
     "name": "#%%\n"
    }
   },
   "outputs": [],
   "source": [
    "import numpy as np\n",
    "import pandas as pd\n",
    "from sklearn.model_selection import train_test_split\n",
    "import matplotlib.pyplot as plt \n",
    "from sklearn.linear_model import LinearRegression\n",
    "from sklearn.ensemble import RandomForestRegressor\n",
    "from sklearn.linear_model import Lasso\n",
    "from sklearn.metrics import r2_score, mean_absolute_error, mean_squared_error\n",
    "from sklearn.preprocessing import StandardScaler"
   ]
  },
  {
   "cell_type": "code",
   "execution_count": 2,
   "id": "e8b14a9a",
   "metadata": {
    "ExecuteTime": {
     "end_time": "2023-04-16T18:11:17.300349Z",
     "start_time": "2023-04-16T18:11:17.242393Z"
    },
    "colab": {
     "base_uri": "https://localhost:8080/"
    },
    "executionInfo": {
     "elapsed": 1061,
     "status": "ok",
     "timestamp": 1681871221374,
     "user": {
      "displayName": "Jiaxi Xie",
      "userId": "07877552585909003767"
     },
     "user_tz": 240
    },
    "id": "e8b14a9a",
    "outputId": "ea902a3a-1dcc-47af-a10b-e35e1b9fb939",
    "pycharm": {
     "name": "#%%\n"
    }
   },
   "outputs": [],
   "source": [
    "# from google.colab import drive\n",
    "# drive.mount('/content/drive')\n",
    "# data = pd.read_csv('/content/drive/My Drive/Multi_core/proprocessed_data_s_p_speedup.csv')"
   ]
  },
  {
   "cell_type": "markdown",
   "id": "8c07fa76",
   "metadata": {},
   "source": [
    "### Load Dataset"
   ]
  },
  {
   "cell_type": "code",
   "execution_count": 3,
   "id": "0395f740",
   "metadata": {},
   "outputs": [],
   "source": [
    "data = pd.read_csv('../data/preprocessed_data_s_p_speedup.csv')"
   ]
  },
  {
   "cell_type": "code",
   "execution_count": 4,
   "id": "6580624b",
   "metadata": {
    "ExecuteTime": {
     "end_time": "2023-04-16T18:11:17.409153Z",
     "start_time": "2023-04-16T18:11:17.406932Z"
    },
    "executionInfo": {
     "elapsed": 1,
     "status": "ok",
     "timestamp": 1681871221374,
     "user": {
      "displayName": "Jiaxi Xie",
      "userId": "07877552585909003767"
     },
     "user_tz": 240
    },
    "id": "6580624b"
   },
   "outputs": [],
   "source": [
    "x_col = ['cache-misses', 'dTLB-load-misses', 'time',\t'branch-load-misses',\t'L1-icache-load-misses',\n",
    "         'cpu-cycles', 'L1-dcache-load-misses', 'dTLB-loads',\t'cpu-used']\n",
    "y_col = ['Speedup']"
   ]
  },
  {
   "cell_type": "code",
   "execution_count": 5,
   "id": "aaf7cc0d",
   "metadata": {
    "ExecuteTime": {
     "end_time": "2023-04-16T18:11:17.586123Z",
     "start_time": "2023-04-16T18:11:17.574581Z"
    },
    "executionInfo": {
     "elapsed": 1,
     "status": "ok",
     "timestamp": 1681871221374,
     "user": {
      "displayName": "Jiaxi Xie",
      "userId": "07877552585909003767"
     },
     "user_tz": 240
    },
    "id": "aaf7cc0d"
   },
   "outputs": [],
   "source": [
    "X = data[x_col].values\n",
    "y = data[y_col].values"
   ]
  },
  {
   "cell_type": "code",
   "execution_count": 6,
   "id": "c8900c2f",
   "metadata": {
    "ExecuteTime": {
     "end_time": "2023-04-16T18:11:17.767726Z",
     "start_time": "2023-04-16T18:11:17.752397Z"
    },
    "executionInfo": {
     "elapsed": 208,
     "status": "ok",
     "timestamp": 1681871221581,
     "user": {
      "displayName": "Jiaxi Xie",
      "userId": "07877552585909003767"
     },
     "user_tz": 240
    },
    "id": "c8900c2f",
    "pycharm": {
     "name": "#%%\n"
    }
   },
   "outputs": [],
   "source": [
    "X_train, X_rem, y_train, y_rem = train_test_split(X, y, test_size=0.3, random_state=42)\n",
    "X_val, X_test, y_val, y_test = train_test_split(X_rem, y_rem, test_size=0.5, random_state=42)"
   ]
  },
  {
   "cell_type": "code",
   "execution_count": 7,
   "id": "79999c0f",
   "metadata": {
    "ExecuteTime": {
     "end_time": "2023-04-16T18:11:17.952272Z",
     "start_time": "2023-04-16T18:11:17.941241Z"
    },
    "colab": {
     "base_uri": "https://localhost:8080/"
    },
    "executionInfo": {
     "elapsed": 4,
     "status": "ok",
     "timestamp": 1681871221581,
     "user": {
      "displayName": "Jiaxi Xie",
      "userId": "07877552585909003767"
     },
     "user_tz": 240
    },
    "id": "79999c0f",
    "outputId": "0b01473b-2345-472f-940d-8d2ec0d00c85",
    "pycharm": {
     "name": "#%%\n"
    }
   },
   "outputs": [
    {
     "name": "stdout",
     "output_type": "stream",
     "text": [
      "X_train_Size: (6804, 9)\n",
      "y_train_Size: (6804, 1)\n",
      "X_val_Size: (1458, 9)\n",
      "y_val_Size: (1458, 1)\n",
      "X_test: (1459, 9)\n",
      "y_test_Size: (1459, 1)\n"
     ]
    }
   ],
   "source": [
    "print(\"X_train_Size: \" + str(X_train.shape))\n",
    "print(\"y_train_Size: \" + str(y_train.shape))\n",
    "print(\"X_val_Size: \" + str(X_val.shape))\n",
    "print(\"y_val_Size: \" + str(y_val.shape))\n",
    "print(\"X_test: \" + str(X_test.shape))\n",
    "print(\"y_test_Size: \" + str(y_test.shape))"
   ]
  },
  {
   "cell_type": "markdown",
   "id": "c1b9e139",
   "metadata": {},
   "source": [
    "### Baseline Model 1: Multiple Regression"
   ]
  },
  {
   "cell_type": "code",
   "execution_count": 8,
   "id": "f47f3fbc",
   "metadata": {
    "ExecuteTime": {
     "end_time": "2023-04-16T18:11:18.139216Z",
     "start_time": "2023-04-16T18:11:18.108920Z"
    },
    "executionInfo": {
     "elapsed": 3,
     "status": "ok",
     "timestamp": 1681871221581,
     "user": {
      "displayName": "Jiaxi Xie",
      "userId": "07877552585909003767"
     },
     "user_tz": 240
    },
    "id": "f47f3fbc",
    "pycharm": {
     "name": "#%%\n"
    }
   },
   "outputs": [],
   "source": [
    "# Multiple Regression\n",
    "\n",
    "# Model\n",
    "mul_model = LinearRegression().fit(X_train, y_train)\n",
    "rSqr = mul_model.score(X_train,y_train)\n",
    "b0, b1 = mul_model.intercept_, mul_model.coef_"
   ]
  },
  {
   "cell_type": "code",
   "execution_count": 9,
   "id": "b22865d8",
   "metadata": {
    "ExecuteTime": {
     "end_time": "2023-04-16T18:11:18.292592Z",
     "start_time": "2023-04-16T18:11:18.289191Z"
    },
    "colab": {
     "base_uri": "https://localhost:8080/"
    },
    "executionInfo": {
     "elapsed": 3,
     "status": "ok",
     "timestamp": 1681871221581,
     "user": {
      "displayName": "Jiaxi Xie",
      "userId": "07877552585909003767"
     },
     "user_tz": 240
    },
    "id": "b22865d8",
    "outputId": "033700c7-3431-4209-e89c-619b30c776dc",
    "pycharm": {
     "name": "#%%\n"
    }
   },
   "outputs": [
    {
     "name": "stdout",
     "output_type": "stream",
     "text": [
      "Linear Regression\n",
      "Test R-Squared: 0.5190, Test MSE: 2.4277, Test MAE: 1.1655, Test RMSE: 1.5581\n"
     ]
    }
   ],
   "source": [
    "# Prediction\n",
    "y_pred = mul_model.predict(X_test)\n",
    "\n",
    "# Evaluation\n",
    "print(\"Linear Regression\")\n",
    "mul_rSqr = r2_score(y_test, y_pred)\n",
    "mul_mae = mean_absolute_error(y_test, y_pred)\n",
    "mul_mse = mean_squared_error(y_test, y_pred)\n",
    "mul_rmse = np.sqrt(mul_mse)\n",
    "print(f\"Test R-Squared: {mul_rSqr:.4f}, Test MSE: {mul_mse:.4f}, Test MAE: {mul_mae:.4f}, Test RMSE: {mul_rmse:.4f}\")"
   ]
  },
  {
   "cell_type": "code",
   "execution_count": 10,
   "id": "6a871210",
   "metadata": {
    "ExecuteTime": {
     "end_time": "2023-04-16T18:11:18.546799Z",
     "start_time": "2023-04-16T18:11:18.495686Z"
    },
    "colab": {
     "base_uri": "https://localhost:8080/",
     "height": 449
    },
    "executionInfo": {
     "elapsed": 686,
     "status": "ok",
     "timestamp": 1681871222804,
     "user": {
      "displayName": "Jiaxi Xie",
      "userId": "07877552585909003767"
     },
     "user_tz": 240
    },
    "id": "6a871210",
    "outputId": "0ffafb7f-6098-4fc4-ca24-faed75123c2e",
    "scrolled": true
   },
   "outputs": [
    {
     "data": {
      "image/png": "[encoded data removed]",
      "text/plain": [
       "<Figure size 432x288 with 1 Axes>"
      ]
     },
     "metadata": {
      "needs_background": "light"
     },
     "output_type": "display_data"
    }
   ],
   "source": [
    "plt.scatter(range(len(y_pred)), y_pred, s=1)\n",
    "plt.xlabel(\"Test Data Index\")\n",
    "plt.ylabel(\"Linear Regression Predicted Speedup\")\n",
    "plt.show()"
   ]
  },
  {
   "cell_type": "markdown",
   "id": "95215cbc",
   "metadata": {},
   "source": [
    "### Baseline Model 1: Random Forest Regression"
   ]
  },
  {
   "cell_type": "code",
   "execution_count": 11,
   "id": "dd570f75",
   "metadata": {
    "ExecuteTime": {
     "end_time": "2023-04-16T18:11:30.987134Z",
     "start_time": "2023-04-16T18:11:18.792447Z"
    },
    "colab": {
     "base_uri": "https://localhost:8080/"
    },
    "executionInfo": {
     "elapsed": 7607,
     "status": "ok",
     "timestamp": 1681871230408,
     "user": {
      "displayName": "Jiaxi Xie",
      "userId": "07877552585909003767"
     },
     "user_tz": 240
    },
    "id": "dd570f75",
    "outputId": "164f7f68-321f-438b-e666-d2263855b03e",
    "pycharm": {
     "name": "#%%\n"
    }
   },
   "outputs": [
    {
     "name": "stdout",
     "output_type": "stream",
     "text": [
      "Random Forest Regression\n",
      "Test R-Squared: 0.964, Test MSE: 0.180, Test MAE: 0.168, Test RMSE: 0.424\n"
     ]
    }
   ],
   "source": [
    "# Random Forest Regression\n",
    "\n",
    "# Model\n",
    "rf_model = RandomForestRegressor(random_state = 14).fit(X_train, y_train.ravel()) \n",
    "\n",
    "# Prediction\n",
    "y_pred = rf_model.predict(X_test)\n",
    "# print(y_pred)\n",
    "\n",
    "# Evaluation\n",
    "print(\"Random Forest Regression\")\n",
    "rf_rSqr = r2_score(y_test, y_pred)\n",
    "rf_mae = mean_absolute_error(y_test, y_pred)\n",
    "rf_mse = mean_squared_error(y_test, y_pred)\n",
    "rf_rmse = np.sqrt(rf_mse)\n",
    "print(f\"Test R-Squared: {rf_rSqr:.3f}, Test MSE: {rf_mse:.3f}, Test MAE: {rf_mae:.3f}, Test RMSE: {rf_rmse:.3f}\")"
   ]
  },
  {
   "cell_type": "code",
   "execution_count": 12,
   "id": "0c13ddfa",
   "metadata": {
    "ExecuteTime": {
     "end_time": "2023-04-16T18:11:31.051795Z",
     "start_time": "2023-04-16T18:11:30.997112Z"
    },
    "colab": {
     "base_uri": "https://localhost:8080/",
     "height": 449
    },
    "executionInfo": {
     "elapsed": 329,
     "status": "ok",
     "timestamp": 1681871230728,
     "user": {
      "displayName": "Jiaxi Xie",
      "userId": "07877552585909003767"
     },
     "user_tz": 240
    },
    "id": "0c13ddfa",
    "outputId": "558412ad-2294-4747-bd34-6df8c26a5f65"
   },
   "outputs": [
    {
     "data": {
      "image/png": "[encoded data removed]",
      "text/plain": [
       "<Figure size 432x288 with 1 Axes>"
      ]
     },
     "metadata": {
      "needs_background": "light"
     },
     "output_type": "display_data"
    }
   ],
   "source": [
    "plt.scatter(range(len(y_pred)), y_pred, s=1)\n",
    "plt.xlabel(\"Test Data Index\")\n",
    "plt.ylabel(\"Random Forest Regression Predicted Speedup\")\n",
    "plt.show()"
   ]
  },
  {
   "cell_type": "markdown",
   "id": "3eb43f4c",
   "metadata": {},
   "source": [
    "### Baseline Model 3: LASSO Regression"
   ]
  },
  {
   "cell_type": "code",
   "execution_count": 13,
   "id": "8a966aba",
   "metadata": {
    "ExecuteTime": {
     "end_time": "2023-04-16T18:11:31.075349Z",
     "start_time": "2023-04-16T18:11:31.063899Z"
    },
    "colab": {
     "base_uri": "https://localhost:8080/"
    },
    "executionInfo": {
     "elapsed": 4,
     "status": "ok",
     "timestamp": 1681871230728,
     "user": {
      "displayName": "Jiaxi Xie",
      "userId": "07877552585909003767"
     },
     "user_tz": 240
    },
    "id": "8a966aba",
    "outputId": "56cd95db-b0fa-402e-8126-257824b25595",
    "pycharm": {
     "name": "#%%\n"
    }
   },
   "outputs": [
    {
     "name": "stdout",
     "output_type": "stream",
     "text": [
      "LASSO Regression\n",
      "Test R-Squared: 0.4070, Test MSE: 2.9929, Test MAE: 1.2402, Test RMSE: 1.7300\n"
     ]
    }
   ],
   "source": [
    "# LASSO Regression\n",
    "\n",
    "# Scale the input\n",
    "scaler = StandardScaler()\n",
    "X_train_scaled = scaler.fit_transform(X_train)\n",
    "X_test_scaled = scaler.transform(X_test)\n",
    "\n",
    "# Create and fit the model\n",
    "lasso_model = Lasso(alpha=0.1, max_iter=10000, tol=0.01).fit(X_train_scaled, y_train)\n",
    "# alpha/the amount of regularization is 0.1; max #iterations is 10,000; tolerance level is 0.01 to improve convergence\n",
    "lasso_coef = lasso_model.coef_\n",
    "\n",
    "# Prediction\n",
    "y_pred = lasso_model.predict(X_test_scaled)\n",
    "\n",
    "# Evaluation\n",
    "print(\"LASSO Regression\")\n",
    "lasso_rSqr = r2_score(y_test, y_pred)\n",
    "lasso_mae = mean_absolute_error(y_test, y_pred)\n",
    "lasso_mse = mean_squared_error(y_test, y_pred)\n",
    "lasso_rmse = np.sqrt(lasso_mse)\n",
    "print(f\"Test R-Squared: {lasso_rSqr:.4f}, Test MSE: {lasso_mse:.4f}, Test MAE: {lasso_mae:.4f}, Test RMSE: {lasso_rmse:.4f}\")"
   ]
  },
  {
   "cell_type": "code",
   "execution_count": 14,
   "id": "021d6068",
   "metadata": {
    "ExecuteTime": {
     "end_time": "2023-04-16T18:11:31.133903Z",
     "start_time": "2023-04-16T18:11:31.086568Z"
    },
    "colab": {
     "base_uri": "https://localhost:8080/",
     "height": 449
    },
    "executionInfo": {
     "elapsed": 3,
     "status": "ok",
     "timestamp": 1681871230728,
     "user": {
      "displayName": "Jiaxi Xie",
      "userId": "07877552585909003767"
     },
     "user_tz": 240
    },
    "id": "021d6068",
    "outputId": "c9e8b172-c89e-4cc5-ec5f-040424986a3c"
   },
   "outputs": [
    {
     "data": {
      "image/png": "[encoded data removed]",
      "text/plain": [
       "<Figure size 432x288 with 1 Axes>"
      ]
     },
     "metadata": {
      "needs_background": "light"
     },
     "output_type": "display_data"
    }
   ],
   "source": [
    "plt.scatter(range(len(y_pred)), y_pred, s=1)\n",
    "plt.xlabel(\"Test Data Index\")\n",
    "plt.ylabel(\"LASSO Regression Predicted Speedup\")\n",
    "plt.show()"
   ]
  },
  {
   "cell_type": "code",
   "execution_count": 13,
   "id": "8dfcb86c-7201-4ae7-9cc3-5c753dbe435a",
   "metadata": {
    "executionInfo": {
     "elapsed": 7,
     "status": "ok",
     "timestamp": 1681871189918,
     "user": {
      "displayName": "Jiaxi Xie",
      "userId": "07877552585909003767"
     },
     "user_tz": 240
    },
    "id": "8dfcb86c-7201-4ae7-9cc3-5c753dbe435a"
   },
   "outputs": [],
   "source": []
  }
 ],
 "metadata": {
  "colab": {
   "provenance": []
  },
  "kernelspec": {
   "display_name": "Python 3 (ipykernel)",
   "language": "python",
   "name": "python3"
  },
  "language_info": {
   "codemirror_mode": {
    "name": "ipython",
    "version": 3
   },
   "file_extension": ".py",
   "mimetype": "text/x-python",
   "name": "python",
   "nbconvert_exporter": "python",
   "pygments_lexer": "ipython3",
   "version": "3.9.12"
  },
  "varInspector": {
   "cols": {
    "lenName": 16,
    "lenType": 16,
    "lenVar": 40
   },
   "kernels_config": {
    "python": {
     "delete_cmd_postfix": "",
     "delete_cmd_prefix": "del ",
     "library": "var_list.py",
     "varRefreshCmd": "print(var_dic_list())"
    },
    "r": {
     "delete_cmd_postfix": ") ",
     "delete_cmd_prefix": "rm(",
     "library": "var_list.r",
     "varRefreshCmd": "cat(var_dic_list()) "
    }
   },
   "types_to_exclude": [
    "module",
    "function",
    "builtin_function_or_method",
    "instance",
    "_Feature"
   ],
   "window_display": false
  }
 },
 "nbformat": 4,
 "nbformat_minor": 5
}
