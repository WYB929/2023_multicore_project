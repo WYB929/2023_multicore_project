{
 "cells": [
  {
   "cell_type": "code",
   "execution_count": 1,
   "id": "76a50f05",
   "metadata": {
    "ExecuteTime": {
     "end_time": "2023-04-09T19:40:33.425596Z",
     "start_time": "2023-04-09T19:40:33.418060Z"
    },
    "pycharm": {
     "name": "#%%\n"
    }
   },
   "outputs": [],
   "source": [
    "import pandas as pd\n",
    "from sklearn.model_selection import train_test_split"
   ]
  },
  {
   "cell_type": "code",
   "execution_count": 46,
   "id": "c8a889ce",
   "metadata": {},
   "outputs": [],
   "source": [
    "import numpy as np\n",
    "import matplotlib.pyplot as plt \n",
    "from sklearn.linear_model import LinearRegression\n",
    "from sklearn.ensemble import RandomForestRegressor\n",
    "from sklearn.linear_model import Lasso\n",
    "from sklearn.metrics import r2_score, mean_squared_error\n",
    "from sklearn.preprocessing import StandardScaler"
   ]
  },
  {
   "cell_type": "code",
   "execution_count": 2,
   "id": "07e25be5",
   "metadata": {
    "ExecuteTime": {
     "end_time": "2023-04-09T19:27:19.999256Z",
     "start_time": "2023-04-09T19:27:19.965835Z"
    },
    "pycharm": {
     "name": "#%%\n"
    }
   },
   "outputs": [],
   "source": [
    "data = pd.read_csv('../data/prepocessed_data.csv')"
   ]
  },
  {
   "cell_type": "code",
   "execution_count": 3,
   "id": "a1b6901b",
   "metadata": {
    "ExecuteTime": {
     "end_time": "2023-04-09T19:27:29.561295Z",
     "start_time": "2023-04-09T19:27:29.540133Z"
    },
    "pycharm": {
     "name": "#%%\n"
    }
   },
   "outputs": [
    {
     "data": {
      "text/html": [
       "<div>\n",
       "<style scoped>\n",
       "    .dataframe tbody tr th:only-of-type {\n",
       "        vertical-align: middle;\n",
       "    }\n",
       "\n",
       "    .dataframe tbody tr th {\n",
       "        vertical-align: top;\n",
       "    }\n",
       "\n",
       "    .dataframe thead th {\n",
       "        text-align: right;\n",
       "    }\n",
       "</style>\n",
       "<table border=\"1\" class=\"dataframe\">\n",
       "  <thead>\n",
       "    <tr style=\"text-align: right;\">\n",
       "      <th></th>\n",
       "      <th>LLC_loads</th>\n",
       "      <th>page_faults</th>\n",
       "      <th>Input Size</th>\n",
       "      <th>cpu_migrations</th>\n",
       "      <th>LLC_load_misses</th>\n",
       "      <th>cache_references</th>\n",
       "      <th>cycles</th>\n",
       "      <th>instructions</th>\n",
       "      <th>bus_cycles</th>\n",
       "      <th>ref_cycles</th>\n",
       "      <th>LLC_store_misses_percent</th>\n",
       "      <th>minor_faults</th>\n",
       "      <th>cpu_clock</th>\n",
       "      <th>branch_misses</th>\n",
       "      <th>branches_instructions</th>\n",
       "      <th>time</th>\n",
       "      <th>user_time</th>\n",
       "      <th>sys_time</th>\n",
       "    </tr>\n",
       "  </thead>\n",
       "  <tbody>\n",
       "    <tr>\n",
       "      <th>0</th>\n",
       "      <td>3586395</td>\n",
       "      <td>69534</td>\n",
       "      <td>0</td>\n",
       "      <td>7</td>\n",
       "      <td>67890</td>\n",
       "      <td>13221057</td>\n",
       "      <td>521324755</td>\n",
       "      <td>668243892</td>\n",
       "      <td>35970429</td>\n",
       "      <td>818766563</td>\n",
       "      <td>1.620721</td>\n",
       "      <td>69534</td>\n",
       "      <td>574.21</td>\n",
       "      <td>3953952</td>\n",
       "      <td>174052847</td>\n",
       "      <td>0.045</td>\n",
       "      <td>0.045</td>\n",
       "      <td>0.0</td>\n",
       "    </tr>\n",
       "    <tr>\n",
       "      <th>1</th>\n",
       "      <td>3756986</td>\n",
       "      <td>69530</td>\n",
       "      <td>0</td>\n",
       "      <td>14</td>\n",
       "      <td>83124</td>\n",
       "      <td>13201504</td>\n",
       "      <td>604087463</td>\n",
       "      <td>745514225</td>\n",
       "      <td>37409896</td>\n",
       "      <td>841124296</td>\n",
       "      <td>2.426791</td>\n",
       "      <td>69530</td>\n",
       "      <td>577.19</td>\n",
       "      <td>3571920</td>\n",
       "      <td>179328504</td>\n",
       "      <td>0.028</td>\n",
       "      <td>0.045</td>\n",
       "      <td>0.0</td>\n",
       "    </tr>\n",
       "    <tr>\n",
       "      <th>2</th>\n",
       "      <td>3291078</td>\n",
       "      <td>69493</td>\n",
       "      <td>0</td>\n",
       "      <td>9</td>\n",
       "      <td>25693</td>\n",
       "      <td>14204116</td>\n",
       "      <td>540727036</td>\n",
       "      <td>676803235</td>\n",
       "      <td>34805980</td>\n",
       "      <td>812634023</td>\n",
       "      <td>0.650713</td>\n",
       "      <td>69493</td>\n",
       "      <td>568.43</td>\n",
       "      <td>3778572</td>\n",
       "      <td>177831187</td>\n",
       "      <td>0.023</td>\n",
       "      <td>0.045</td>\n",
       "      <td>0.0</td>\n",
       "    </tr>\n",
       "    <tr>\n",
       "      <th>3</th>\n",
       "      <td>3594115</td>\n",
       "      <td>70120</td>\n",
       "      <td>0</td>\n",
       "      <td>12</td>\n",
       "      <td>79537</td>\n",
       "      <td>13690247</td>\n",
       "      <td>568738331</td>\n",
       "      <td>689568815</td>\n",
       "      <td>35174945</td>\n",
       "      <td>821102519</td>\n",
       "      <td>1.131704</td>\n",
       "      <td>70120</td>\n",
       "      <td>576.27</td>\n",
       "      <td>3799148</td>\n",
       "      <td>155514994</td>\n",
       "      <td>0.021</td>\n",
       "      <td>0.046</td>\n",
       "      <td>0.0</td>\n",
       "    </tr>\n",
       "    <tr>\n",
       "      <th>4</th>\n",
       "      <td>3211251</td>\n",
       "      <td>69519</td>\n",
       "      <td>0</td>\n",
       "      <td>7</td>\n",
       "      <td>54678</td>\n",
       "      <td>12650468</td>\n",
       "      <td>506534749</td>\n",
       "      <td>642433245</td>\n",
       "      <td>32651255</td>\n",
       "      <td>747611320</td>\n",
       "      <td>0.411899</td>\n",
       "      <td>69519</td>\n",
       "      <td>568.37</td>\n",
       "      <td>3605267</td>\n",
       "      <td>149658203</td>\n",
       "      <td>0.018</td>\n",
       "      <td>0.045</td>\n",
       "      <td>0.0</td>\n",
       "    </tr>\n",
       "  </tbody>\n",
       "</table>\n",
       "</div>"
      ],
      "text/plain": [
       "   LLC_loads  page_faults  Input Size  cpu_migrations  LLC_load_misses  \\\n",
       "0    3586395        69534           0               7            67890   \n",
       "1    3756986        69530           0              14            83124   \n",
       "2    3291078        69493           0               9            25693   \n",
       "3    3594115        70120           0              12            79537   \n",
       "4    3211251        69519           0               7            54678   \n",
       "\n",
       "   cache_references     cycles  instructions  bus_cycles  ref_cycles  \\\n",
       "0          13221057  521324755     668243892    35970429   818766563   \n",
       "1          13201504  604087463     745514225    37409896   841124296   \n",
       "2          14204116  540727036     676803235    34805980   812634023   \n",
       "3          13690247  568738331     689568815    35174945   821102519   \n",
       "4          12650468  506534749     642433245    32651255   747611320   \n",
       "\n",
       "   LLC_store_misses_percent  minor_faults  cpu_clock  branch_misses  \\\n",
       "0                  1.620721         69534     574.21        3953952   \n",
       "1                  2.426791         69530     577.19        3571920   \n",
       "2                  0.650713         69493     568.43        3778572   \n",
       "3                  1.131704         70120     576.27        3799148   \n",
       "4                  0.411899         69519     568.37        3605267   \n",
       "\n",
       "   branches_instructions   time  user_time  sys_time  \n",
       "0              174052847  0.045      0.045       0.0  \n",
       "1              179328504  0.028      0.045       0.0  \n",
       "2              177831187  0.023      0.045       0.0  \n",
       "3              155514994  0.021      0.046       0.0  \n",
       "4              149658203  0.018      0.045       0.0  "
      ]
     },
     "execution_count": 3,
     "metadata": {},
     "output_type": "execute_result"
    }
   ],
   "source": [
    "data.head(5)"
   ]
  },
  {
   "cell_type": "code",
   "execution_count": 4,
   "id": "869af909",
   "metadata": {
    "ExecuteTime": {
     "end_time": "2023-04-09T19:32:07.312152Z",
     "start_time": "2023-04-09T19:32:07.297239Z"
    },
    "pycharm": {
     "name": "#%%\n"
    }
   },
   "outputs": [],
   "source": [
    "X = data.drop(['time','user_time','sys_time'], axis=1)\n",
    "y = data[['time','user_time','sys_time']]"
   ]
  },
  {
   "cell_type": "code",
   "execution_count": 5,
   "id": "1c800b46",
   "metadata": {
    "ExecuteTime": {
     "end_time": "2023-04-09T19:32:15.390452Z",
     "start_time": "2023-04-09T19:32:15.370233Z"
    },
    "pycharm": {
     "name": "#%%\n"
    }
   },
   "outputs": [
    {
     "data": {
      "text/html": [
       "<div>\n",
       "<style scoped>\n",
       "    .dataframe tbody tr th:only-of-type {\n",
       "        vertical-align: middle;\n",
       "    }\n",
       "\n",
       "    .dataframe tbody tr th {\n",
       "        vertical-align: top;\n",
       "    }\n",
       "\n",
       "    .dataframe thead th {\n",
       "        text-align: right;\n",
       "    }\n",
       "</style>\n",
       "<table border=\"1\" class=\"dataframe\">\n",
       "  <thead>\n",
       "    <tr style=\"text-align: right;\">\n",
       "      <th></th>\n",
       "      <th>LLC_loads</th>\n",
       "      <th>page_faults</th>\n",
       "      <th>Input Size</th>\n",
       "      <th>cpu_migrations</th>\n",
       "      <th>LLC_load_misses</th>\n",
       "      <th>cache_references</th>\n",
       "      <th>cycles</th>\n",
       "      <th>instructions</th>\n",
       "      <th>bus_cycles</th>\n",
       "      <th>ref_cycles</th>\n",
       "      <th>LLC_store_misses_percent</th>\n",
       "      <th>minor_faults</th>\n",
       "      <th>cpu_clock</th>\n",
       "      <th>branch_misses</th>\n",
       "      <th>branches_instructions</th>\n",
       "    </tr>\n",
       "  </thead>\n",
       "  <tbody>\n",
       "    <tr>\n",
       "      <th>0</th>\n",
       "      <td>3586395</td>\n",
       "      <td>69534</td>\n",
       "      <td>0</td>\n",
       "      <td>7</td>\n",
       "      <td>67890</td>\n",
       "      <td>13221057</td>\n",
       "      <td>521324755</td>\n",
       "      <td>668243892</td>\n",
       "      <td>35970429</td>\n",
       "      <td>818766563</td>\n",
       "      <td>1.620721</td>\n",
       "      <td>69534</td>\n",
       "      <td>574.21</td>\n",
       "      <td>3953952</td>\n",
       "      <td>174052847</td>\n",
       "    </tr>\n",
       "    <tr>\n",
       "      <th>1</th>\n",
       "      <td>3756986</td>\n",
       "      <td>69530</td>\n",
       "      <td>0</td>\n",
       "      <td>14</td>\n",
       "      <td>83124</td>\n",
       "      <td>13201504</td>\n",
       "      <td>604087463</td>\n",
       "      <td>745514225</td>\n",
       "      <td>37409896</td>\n",
       "      <td>841124296</td>\n",
       "      <td>2.426791</td>\n",
       "      <td>69530</td>\n",
       "      <td>577.19</td>\n",
       "      <td>3571920</td>\n",
       "      <td>179328504</td>\n",
       "    </tr>\n",
       "    <tr>\n",
       "      <th>2</th>\n",
       "      <td>3291078</td>\n",
       "      <td>69493</td>\n",
       "      <td>0</td>\n",
       "      <td>9</td>\n",
       "      <td>25693</td>\n",
       "      <td>14204116</td>\n",
       "      <td>540727036</td>\n",
       "      <td>676803235</td>\n",
       "      <td>34805980</td>\n",
       "      <td>812634023</td>\n",
       "      <td>0.650713</td>\n",
       "      <td>69493</td>\n",
       "      <td>568.43</td>\n",
       "      <td>3778572</td>\n",
       "      <td>177831187</td>\n",
       "    </tr>\n",
       "    <tr>\n",
       "      <th>3</th>\n",
       "      <td>3594115</td>\n",
       "      <td>70120</td>\n",
       "      <td>0</td>\n",
       "      <td>12</td>\n",
       "      <td>79537</td>\n",
       "      <td>13690247</td>\n",
       "      <td>568738331</td>\n",
       "      <td>689568815</td>\n",
       "      <td>35174945</td>\n",
       "      <td>821102519</td>\n",
       "      <td>1.131704</td>\n",
       "      <td>70120</td>\n",
       "      <td>576.27</td>\n",
       "      <td>3799148</td>\n",
       "      <td>155514994</td>\n",
       "    </tr>\n",
       "    <tr>\n",
       "      <th>4</th>\n",
       "      <td>3211251</td>\n",
       "      <td>69519</td>\n",
       "      <td>0</td>\n",
       "      <td>7</td>\n",
       "      <td>54678</td>\n",
       "      <td>12650468</td>\n",
       "      <td>506534749</td>\n",
       "      <td>642433245</td>\n",
       "      <td>32651255</td>\n",
       "      <td>747611320</td>\n",
       "      <td>0.411899</td>\n",
       "      <td>69519</td>\n",
       "      <td>568.37</td>\n",
       "      <td>3605267</td>\n",
       "      <td>149658203</td>\n",
       "    </tr>\n",
       "  </tbody>\n",
       "</table>\n",
       "</div>"
      ],
      "text/plain": [
       "   LLC_loads  page_faults  Input Size  cpu_migrations  LLC_load_misses  \\\n",
       "0    3586395        69534           0               7            67890   \n",
       "1    3756986        69530           0              14            83124   \n",
       "2    3291078        69493           0               9            25693   \n",
       "3    3594115        70120           0              12            79537   \n",
       "4    3211251        69519           0               7            54678   \n",
       "\n",
       "   cache_references     cycles  instructions  bus_cycles  ref_cycles  \\\n",
       "0          13221057  521324755     668243892    35970429   818766563   \n",
       "1          13201504  604087463     745514225    37409896   841124296   \n",
       "2          14204116  540727036     676803235    34805980   812634023   \n",
       "3          13690247  568738331     689568815    35174945   821102519   \n",
       "4          12650468  506534749     642433245    32651255   747611320   \n",
       "\n",
       "   LLC_store_misses_percent  minor_faults  cpu_clock  branch_misses  \\\n",
       "0                  1.620721         69534     574.21        3953952   \n",
       "1                  2.426791         69530     577.19        3571920   \n",
       "2                  0.650713         69493     568.43        3778572   \n",
       "3                  1.131704         70120     576.27        3799148   \n",
       "4                  0.411899         69519     568.37        3605267   \n",
       "\n",
       "   branches_instructions  \n",
       "0              174052847  \n",
       "1              179328504  \n",
       "2              177831187  \n",
       "3              155514994  \n",
       "4              149658203  "
      ]
     },
     "execution_count": 5,
     "metadata": {},
     "output_type": "execute_result"
    }
   ],
   "source": [
    "X.head(5)"
   ]
  },
  {
   "cell_type": "code",
   "execution_count": 6,
   "id": "d1b6b1b6",
   "metadata": {
    "ExecuteTime": {
     "end_time": "2023-04-09T19:32:32.392712Z",
     "start_time": "2023-04-09T19:32:32.375952Z"
    },
    "pycharm": {
     "name": "#%%\n"
    }
   },
   "outputs": [
    {
     "data": {
      "text/html": [
       "<div>\n",
       "<style scoped>\n",
       "    .dataframe tbody tr th:only-of-type {\n",
       "        vertical-align: middle;\n",
       "    }\n",
       "\n",
       "    .dataframe tbody tr th {\n",
       "        vertical-align: top;\n",
       "    }\n",
       "\n",
       "    .dataframe thead th {\n",
       "        text-align: right;\n",
       "    }\n",
       "</style>\n",
       "<table border=\"1\" class=\"dataframe\">\n",
       "  <thead>\n",
       "    <tr style=\"text-align: right;\">\n",
       "      <th></th>\n",
       "      <th>time</th>\n",
       "      <th>user_time</th>\n",
       "      <th>sys_time</th>\n",
       "    </tr>\n",
       "  </thead>\n",
       "  <tbody>\n",
       "    <tr>\n",
       "      <th>0</th>\n",
       "      <td>0.045</td>\n",
       "      <td>0.045</td>\n",
       "      <td>0.0</td>\n",
       "    </tr>\n",
       "    <tr>\n",
       "      <th>1</th>\n",
       "      <td>0.028</td>\n",
       "      <td>0.045</td>\n",
       "      <td>0.0</td>\n",
       "    </tr>\n",
       "    <tr>\n",
       "      <th>2</th>\n",
       "      <td>0.023</td>\n",
       "      <td>0.045</td>\n",
       "      <td>0.0</td>\n",
       "    </tr>\n",
       "    <tr>\n",
       "      <th>3</th>\n",
       "      <td>0.021</td>\n",
       "      <td>0.046</td>\n",
       "      <td>0.0</td>\n",
       "    </tr>\n",
       "    <tr>\n",
       "      <th>4</th>\n",
       "      <td>0.018</td>\n",
       "      <td>0.045</td>\n",
       "      <td>0.0</td>\n",
       "    </tr>\n",
       "  </tbody>\n",
       "</table>\n",
       "</div>"
      ],
      "text/plain": [
       "    time  user_time  sys_time\n",
       "0  0.045      0.045       0.0\n",
       "1  0.028      0.045       0.0\n",
       "2  0.023      0.045       0.0\n",
       "3  0.021      0.046       0.0\n",
       "4  0.018      0.045       0.0"
      ]
     },
     "execution_count": 6,
     "metadata": {},
     "output_type": "execute_result"
    }
   ],
   "source": [
    "y.head(5)"
   ]
  },
  {
   "cell_type": "code",
   "execution_count": 7,
   "id": "79494ba8",
   "metadata": {
    "ExecuteTime": {
     "end_time": "2023-04-09T19:48:00.333758Z",
     "start_time": "2023-04-09T19:48:00.318114Z"
    },
    "pycharm": {
     "name": "#%%\n"
    }
   },
   "outputs": [],
   "source": [
    "X_train, X_rem, y_train, y_rem = train_test_split(X, y, test_size=0.3, random_state=42)\n",
    "X_val, X_test, y_val, y_test = train_test_split(X_rem, y_rem, test_size=0.5, random_state=42)"
   ]
  },
  {
   "cell_type": "code",
   "execution_count": 8,
   "id": "7a2ea7b5",
   "metadata": {
    "ExecuteTime": {
     "end_time": "2023-04-09T19:50:16.456719Z",
     "start_time": "2023-04-09T19:50:16.445218Z"
    },
    "pycharm": {
     "name": "#%%\n"
    }
   },
   "outputs": [
    {
     "name": "stdout",
     "output_type": "stream",
     "text": [
      "X_train_Size: (8400, 15)\n",
      "y_train_Size: (8400, 3)\n",
      "X_val_Size: (1800, 15)\n",
      "y_val_Size: (1800, 3)\n",
      "X_test: (1800, 15)\n",
      "y_test_Size: (1800, 3)\n"
     ]
    }
   ],
   "source": [
    "print(\"X_train_Size: \" + str(X_train.shape))\n",
    "print(\"y_train_Size: \" + str(y_train.shape))\n",
    "print(\"X_val_Size: \" + str(X_val.shape))\n",
    "print(\"y_val_Size: \" + str(y_val.shape))\n",
    "print(\"X_test: \" + str(X_test.shape))\n",
    "print(\"y_test_Size: \" + str(y_test.shape))"
   ]
  },
  {
   "cell_type": "code",
   "execution_count": 42,
   "id": "1ba2bf3a",
   "metadata": {
    "pycharm": {
     "name": "#%%\n"
    }
   },
   "outputs": [
    {
     "name": "stdout",
     "output_type": "stream",
     "text": [
      "Linear Regression R-Squared on train data: 0.8476403860102314\n"
     ]
    },
    {
     "data": {
      "text/plain": [
       "Text(0.5, 1.0, 'R^2 = 0.848')"
      ]
     },
     "execution_count": 42,
     "metadata": {},
     "output_type": "execute_result"
    },
    {
     "data": {
      "image/png": "[encoded data removed]",
      "text/plain": [
       "<Figure size 640x480 with 1 Axes>"
      ]
     },
     "metadata": {},
     "output_type": "display_data"
    }
   ],
   "source": [
    "# Multiple Regression\n",
    "# Sample data\n",
    "# X = np.array([[1, 100], [2, 200], [3, 200], [4, 200], [5, 300]])  # input values\n",
    "# y = np.array([100, 150, 200, 250, 200])  # output values\n",
    "\n",
    "# Model\n",
    "mul_model = LinearRegression().fit(X_train, y_train)\n",
    "rSqr = mul_model.score(X_train,y_train)\n",
    "b0, b1 = mul_model.intercept_, mul_model.coef_\n",
    "print(\"Linear Regression R-Squared on train data: \"+str(rSqr))\n",
    "# yHat = b1[0]*X[:,0] + b1[1]*X[:,1] + b0\n",
    "yHat = mul_model.predict(X_train)\n",
    "\n",
    "# Scatter plot between predicted and actual score of training data:\n",
    "plt.plot(yHat,y_train,'o',markersize=1)\n",
    "plt.xlabel('Predicted output')\n",
    "plt.ylabel('Actual output')\n",
    "plt.title('R^2 = {:.3f}'.format(rSqr))"
   ]
  },
  {
   "cell_type": "code",
   "execution_count": 43,
   "id": "14b698b1",
   "metadata": {},
   "outputs": [
    {
     "name": "stdout",
     "output_type": "stream",
     "text": [
      "Linear Regression R-Squared:  0.8430498073041015\n",
      "Random Forest Regression RMSE: 0.47349067839836717\n"
     ]
    },
    {
     "data": {
      "text/plain": [
       "Text(0.5, 1.0, 'R^2 = 0.848')"
      ]
     },
     "execution_count": 43,
     "metadata": {},
     "output_type": "execute_result"
    },
    {
     "data": {
      "image/png": "[encoded data removed]",
      "text/plain": [
       "<Figure size 640x480 with 1 Axes>"
      ]
     },
     "metadata": {},
     "output_type": "display_data"
    }
   ],
   "source": [
    "# Prediction\n",
    "y_pred = mul_model.predict(X_test)\n",
    "# print(y_pred)\n",
    "\n",
    "# Evaluation\n",
    "mul_rSqr = r2_score(y_test, y_pred)\n",
    "print(\"Linear Regression R-Squared: \", mul_rSqr)\n",
    "mul_mse = mean_squared_error(y_test, y_pred)\n",
    "mul_rmse = np.sqrt(mul_mse)\n",
    "print(\"Random Forest Regression RMSE:\", mul_rmse)\n",
    "\n",
    "# Scatter plot between predicted and actual score of test data:\n",
    "plt.plot(y_pred,y_test,'o',markersize=1)\n",
    "plt.xlabel('Predicted output')\n",
    "plt.ylabel('Actual output')\n",
    "plt.title('R^2 = {:.3f}'.format(rSqr))"
   ]
  },
  {
   "cell_type": "code",
   "execution_count": 48,
   "id": "c7370dd6",
   "metadata": {},
   "outputs": [
    {
     "name": "stdout",
     "output_type": "stream",
     "text": [
      "[[ 1.5418432   7.71331992  0.23519092]\n",
      " [ 0.19930676  0.49407763  0.04956418]\n",
      " [ 0.19930676  0.49407763  0.04956418]\n",
      " ...\n",
      " [ 0.19930676  0.49407763  0.04956418]\n",
      " [ 0.19930676  0.49407763  0.04956418]\n",
      " [ 4.19848579 12.07488749  1.14775624]]\n",
      "Random Forest Regression R-Squared:  0.5630906289218599\n",
      "Random Forest Regression RMSE: 0.7878661188646556\n"
     ]
    }
   ],
   "source": [
    "# Random Forest Regression\n",
    "\n",
    "# Model\n",
    "rf_model = RandomForestRegressor(max_depth=2).fit(X_train, y_train) \n",
    "# maximum depth of the trees = 2 to prevent overfitting\n",
    "\n",
    "# Prediction\n",
    "y_pred = rf_model.predict(X_test)\n",
    "# print(y_pred)\n",
    "\n",
    "# Evaluation\n",
    "rf_rSqr = r2_score(y_test, y_pred)\n",
    "print(\"Random Forest Regression R-Squared: \", rf_rSqr)\n",
    "rf_mse = mean_squared_error(y_test, y_pred)\n",
    "rf_rmse = np.sqrt(rf_mse)\n",
    "print(\"Random Forest Regression RMSE:\", rf_rmse)"
   ]
  },
  {
   "cell_type": "code",
   "execution_count": 49,
   "id": "f8216737",
   "metadata": {},
   "outputs": [
    {
     "name": "stdout",
     "output_type": "stream",
     "text": [
      "Random Forest Regression R-Squared:  0.7619473160727964\n",
      "Random Forest Regression RMSE: 0.5501943538636741\n"
     ]
    }
   ],
   "source": [
    "# LASSO Regression\n",
    "\n",
    "# Scale the input\n",
    "scaler = StandardScaler()\n",
    "X_train_scaled = scaler.fit_transform(X_train)\n",
    "X_test_scaled = scaler.transform(X_test)\n",
    "\n",
    "# Create and fit the model\n",
    "lasso_model = Lasso(alpha=0.1, max_iter=10000, tol=0.01).fit(X_train_scaled, y_train)\n",
    "# alpha/the amount of regularization is 0.1; max #iterations is 10,000; tolerance level is 0.01 to improve convergence\n",
    "lasso_coef = lasso_model.coef_\n",
    "\n",
    "# Prediction\n",
    "y_pred = lasso_model.predict(X_test_scaled)\n",
    "\n",
    "# Evaluation\n",
    "lasso_rSqr = r2_score(y_test, y_pred)\n",
    "print(\"LASSO Regression R-Squared: \", lasso_rSqr)\n",
    "lasso_mse = mean_squared_error(y_test, y_pred)\n",
    "lasso_rmse = np.sqrt(lasso_mse)\n",
    "print(\"LASSO Regression RMSE:\", lasso_rmse)"
   ]
  },
  {
   "cell_type": "code",
   "execution_count": null,
   "id": "021d6068",
   "metadata": {},
   "outputs": [],
   "source": []
  }
 ],
 "metadata": {
  "kernelspec": {
   "display_name": "Python 3 (ipykernel)",
   "language": "python",
   "name": "python3"
  },
  "language_info": {
   "codemirror_mode": {
    "name": "ipython",
    "version": 3
   },
   "file_extension": ".py",
   "mimetype": "text/x-python",
   "name": "python",
   "nbconvert_exporter": "python",
   "pygments_lexer": "ipython3",
   "version": "3.9.13"
  },
  "varInspector": {
   "cols": {
    "lenName": 16,
    "lenType": 16,
    "lenVar": 40
   },
   "kernels_config": {
    "python": {
     "delete_cmd_postfix": "",
     "delete_cmd_prefix": "del ",
     "library": "var_list.py",
     "varRefreshCmd": "print(var_dic_list())"
    },
    "r": {
     "delete_cmd_postfix": ") ",
     "delete_cmd_prefix": "rm(",
     "library": "var_list.r",
     "varRefreshCmd": "cat(var_dic_list()) "
    }
   },
   "types_to_exclude": [
    "module",
    "function",
    "builtin_function_or_method",
    "instance",
    "_Feature"
   ],
   "window_display": false
  }
 },
 "nbformat": 4,
 "nbformat_minor": 5
}
